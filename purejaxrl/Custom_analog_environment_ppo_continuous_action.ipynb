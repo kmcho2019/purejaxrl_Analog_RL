{
 "cells": [
  {
   "cell_type": "code",
   "execution_count": 1,
   "id": "092815d2-3539-4eae-b17f-fc3af8fe6ba2",
   "metadata": {
    "execution": {
     "iopub.execute_input": "2024-01-22T10:26:53.749684Z",
     "iopub.status.busy": "2024-01-22T10:26:53.749479Z",
     "iopub.status.idle": "2024-01-22T10:26:53.756377Z",
     "shell.execute_reply": "2024-01-22T10:26:53.755749Z",
     "shell.execute_reply.started": "2024-01-22T10:26:53.749661Z"
    }
   },
   "outputs": [],
   "source": [
    "import os\n",
    "os.environ[\"CUDA_VISIBLE_DEVICES\"] = \"0\"  # Replace 0 with your GPU ID"
   ]
  },
  {
   "cell_type": "code",
   "execution_count": 2,
   "id": "c66db3f5-c704-47e6-949e-27ba4538f93e",
   "metadata": {
    "execution": {
     "iopub.execute_input": "2024-01-22T10:26:53.758060Z",
     "iopub.status.busy": "2024-01-22T10:26:53.757860Z",
     "iopub.status.idle": "2024-01-22T10:26:56.325210Z",
     "shell.execute_reply": "2024-01-22T10:26:56.323975Z",
     "shell.execute_reply.started": "2024-01-22T10:26:53.758041Z"
    }
   },
   "outputs": [],
   "source": [
    "import jax\n",
    "import jax.numpy as jnp\n",
    "import flax.linen as nn\n",
    "import numpy as np\n",
    "import optax\n",
    "import gymnax\n",
    "from flax.linen.initializers import constant, orthogonal\n",
    "from typing import Sequence, NamedTuple, Any\n",
    "from flax.training.train_state import TrainState\n",
    "import distrax\n",
    "from wrappers import (\n",
    "    GymnaxWrapper,\n",
    "    LogWrapper,\n",
    "    BraxGymnaxWrapper,\n",
    "    VecEnv,\n",
    "    NormalizeVecObservation,\n",
    "    NormalizeVecReward,\n",
    "    ClipAction,\n",
    ")\n",
    "\n",
    "\n",
    "class ActorCritic(nn.Module):\n",
    "    action_dim: Sequence[int]\n",
    "    activation: str = \"tanh\"\n",
    "\n",
    "    @nn.compact\n",
    "    def __call__(self, x):\n",
    "        if self.activation == \"relu\":\n",
    "            activation = nn.relu\n",
    "        else:\n",
    "            activation = nn.tanh\n",
    "        actor_mean = nn.Dense(\n",
    "            256, kernel_init=orthogonal(np.sqrt(2)), bias_init=constant(0.0)\n",
    "        )(x)\n",
    "        actor_mean = activation(actor_mean)\n",
    "        actor_mean = nn.Dense(\n",
    "            256, kernel_init=orthogonal(np.sqrt(2)), bias_init=constant(0.0)\n",
    "        )(actor_mean)\n",
    "        actor_mean = activation(actor_mean)\n",
    "        actor_mean = nn.Dense(\n",
    "            self.action_dim, kernel_init=orthogonal(0.01), bias_init=constant(0.0)\n",
    "        )(actor_mean)\n",
    "        actor_logtstd = self.param(\"log_std\", nn.initializers.zeros, (self.action_dim,))\n",
    "        pi = distrax.MultivariateNormalDiag(actor_mean, jnp.exp(actor_logtstd))\n",
    "\n",
    "        critic = nn.Dense(\n",
    "            256, kernel_init=orthogonal(np.sqrt(2)), bias_init=constant(0.0)\n",
    "        )(x)\n",
    "        critic = activation(critic)\n",
    "        critic = nn.Dense(\n",
    "            256, kernel_init=orthogonal(np.sqrt(2)), bias_init=constant(0.0)\n",
    "        )(critic)\n",
    "        critic = activation(critic)\n",
    "        critic = nn.Dense(1, kernel_init=orthogonal(1.0), bias_init=constant(0.0))(\n",
    "            critic\n",
    "        )\n",
    "\n",
    "        return pi, jnp.squeeze(critic, axis=-1)\n",
    "\n",
    "\n",
    "class Transition(NamedTuple):\n",
    "    done: jnp.ndarray\n",
    "    action: jnp.ndarray\n",
    "    value: jnp.ndarray\n",
    "    reward: jnp.ndarray\n",
    "    log_prob: jnp.ndarray\n",
    "    obs: jnp.ndarray\n",
    "    info: jnp.ndarray\n",
    "\n",
    "\n",
    "def make_train(config):\n",
    "    config[\"NUM_UPDATES\"] = (\n",
    "        config[\"TOTAL_TIMESTEPS\"] // config[\"NUM_STEPS\"] // config[\"NUM_ENVS\"]\n",
    "    )\n",
    "    config[\"MINIBATCH_SIZE\"] = (\n",
    "        config[\"NUM_ENVS\"] * config[\"NUM_STEPS\"] // config[\"NUM_MINIBATCHES\"]\n",
    "    )\n",
    "    #env, env_params = BraxGymnaxWrapper(config[\"ENV_NAME\"]), None\n",
    "    env, env_params = gymnax.make(config[\"ENV_NAME\"])\n",
    "    env = LogWrapper(env)\n",
    "    env = ClipAction(env)\n",
    "    env = VecEnv(env)\n",
    "    if config[\"NORMALIZE_ENV\"]:\n",
    "        env = NormalizeVecObservation(env)\n",
    "        env = NormalizeVecReward(env, config[\"GAMMA\"])\n",
    "\n",
    "    def linear_schedule(count):\n",
    "        frac = (\n",
    "            1.0\n",
    "            - (count // (config[\"NUM_MINIBATCHES\"] * config[\"UPDATE_EPOCHS\"]))\n",
    "            / config[\"NUM_UPDATES\"]\n",
    "        )\n",
    "        return config[\"LR\"] * frac\n",
    "\n",
    "    def train(rng):\n",
    "        # INIT NETWORK\n",
    "        network = ActorCritic(\n",
    "            env.action_space(env_params).shape[0], activation=config[\"ACTIVATION\"]\n",
    "        )\n",
    "        rng, _rng = jax.random.split(rng)\n",
    "        init_x = jnp.zeros(env.observation_space(env_params).shape)\n",
    "        network_params = network.init(_rng, init_x)\n",
    "        if config[\"ANNEAL_LR\"]:\n",
    "            tx = optax.chain(\n",
    "                optax.clip_by_global_norm(config[\"MAX_GRAD_NORM\"]),\n",
    "                optax.adam(learning_rate=linear_schedule, eps=1e-5),\n",
    "            )\n",
    "        else:\n",
    "            tx = optax.chain(\n",
    "                optax.clip_by_global_norm(config[\"MAX_GRAD_NORM\"]),\n",
    "                optax.adam(config[\"LR\"], eps=1e-5),\n",
    "            )\n",
    "        train_state = TrainState.create(\n",
    "            apply_fn=network.apply,\n",
    "            params=network_params,\n",
    "            tx=tx,\n",
    "        )\n",
    "\n",
    "        # INIT ENV\n",
    "        rng, _rng = jax.random.split(rng)\n",
    "        reset_rng = jax.random.split(_rng, config[\"NUM_ENVS\"])\n",
    "        obsv, env_state = env.reset(reset_rng, env_params)\n",
    "\n",
    "        # TRAIN LOOP\n",
    "        def _update_step(runner_state, unused):\n",
    "            # COLLECT TRAJECTORIES\n",
    "            def _env_step(runner_state, unused):\n",
    "                train_state, env_state, last_obs, rng = runner_state\n",
    "\n",
    "                # SELECT ACTION\n",
    "                rng, _rng = jax.random.split(rng)\n",
    "                pi, value = network.apply(train_state.params, last_obs)\n",
    "                action = pi.sample(seed=_rng)\n",
    "                log_prob = pi.log_prob(action)\n",
    "\n",
    "                # STEP ENV\n",
    "                rng, _rng = jax.random.split(rng)\n",
    "                rng_step = jax.random.split(_rng, config[\"NUM_ENVS\"])\n",
    "                obsv, env_state, reward, done, info = env.step(\n",
    "                    rng_step, env_state, action, env_params\n",
    "                )\n",
    "                transition = Transition(\n",
    "                    done, action, value, reward, log_prob, last_obs, info\n",
    "                )\n",
    "                runner_state = (train_state, env_state, obsv, rng)\n",
    "                return runner_state, transition\n",
    "\n",
    "            runner_state, traj_batch = jax.lax.scan(\n",
    "                _env_step, runner_state, None, config[\"NUM_STEPS\"]\n",
    "            )\n",
    "\n",
    "            # CALCULATE ADVANTAGE\n",
    "            train_state, env_state, last_obs, rng = runner_state\n",
    "            _, last_val = network.apply(train_state.params, last_obs)\n",
    "\n",
    "            def _calculate_gae(traj_batch, last_val):\n",
    "                def _get_advantages(gae_and_next_value, transition):\n",
    "                    gae, next_value = gae_and_next_value\n",
    "                    done, value, reward = (\n",
    "                        transition.done,\n",
    "                        transition.value,\n",
    "                        transition.reward,\n",
    "                    )\n",
    "                    delta = reward + config[\"GAMMA\"] * next_value * (1 - done) - value\n",
    "                    gae = (\n",
    "                        delta\n",
    "                        + config[\"GAMMA\"] * config[\"GAE_LAMBDA\"] * (1 - done) * gae\n",
    "                    )\n",
    "                    return (gae, value), gae\n",
    "\n",
    "                _, advantages = jax.lax.scan(\n",
    "                    _get_advantages,\n",
    "                    (jnp.zeros_like(last_val), last_val),\n",
    "                    traj_batch,\n",
    "                    reverse=True,\n",
    "                    unroll=16,\n",
    "                )\n",
    "                return advantages, advantages + traj_batch.value\n",
    "\n",
    "            advantages, targets = _calculate_gae(traj_batch, last_val)\n",
    "\n",
    "            # UPDATE NETWORK\n",
    "            def _update_epoch(update_state, unused):\n",
    "                def _update_minbatch(train_state, batch_info):\n",
    "                    traj_batch, advantages, targets = batch_info\n",
    "\n",
    "                    def _loss_fn(params, traj_batch, gae, targets):\n",
    "                        # RERUN NETWORK\n",
    "                        pi, value = network.apply(params, traj_batch.obs)\n",
    "                        log_prob = pi.log_prob(traj_batch.action)\n",
    "\n",
    "                        # CALCULATE VALUE LOSS\n",
    "                        value_pred_clipped = traj_batch.value + (\n",
    "                            value - traj_batch.value\n",
    "                        ).clip(-config[\"CLIP_EPS\"], config[\"CLIP_EPS\"])\n",
    "                        value_losses = jnp.square(value - targets)\n",
    "                        value_losses_clipped = jnp.square(value_pred_clipped - targets)\n",
    "                        value_loss = (\n",
    "                            0.5 * jnp.maximum(value_losses, value_losses_clipped).mean()\n",
    "                        )\n",
    "\n",
    "                        # CALCULATE ACTOR LOSS\n",
    "                        ratio = jnp.exp(log_prob - traj_batch.log_prob)\n",
    "                        gae = (gae - gae.mean()) / (gae.std() + 1e-8)\n",
    "                        loss_actor1 = ratio * gae\n",
    "                        loss_actor2 = (\n",
    "                            jnp.clip(\n",
    "                                ratio,\n",
    "                                1.0 - config[\"CLIP_EPS\"],\n",
    "                                1.0 + config[\"CLIP_EPS\"],\n",
    "                            )\n",
    "                            * gae\n",
    "                        )\n",
    "                        loss_actor = -jnp.minimum(loss_actor1, loss_actor2)\n",
    "                        loss_actor = loss_actor.mean()\n",
    "                        entropy = pi.entropy().mean()\n",
    "\n",
    "                        total_loss = (\n",
    "                            loss_actor\n",
    "                            + config[\"VF_COEF\"] * value_loss\n",
    "                            - config[\"ENT_COEF\"] * entropy\n",
    "                        )\n",
    "                        return total_loss, (value_loss, loss_actor, entropy)\n",
    "\n",
    "                    grad_fn = jax.value_and_grad(_loss_fn, has_aux=True)\n",
    "                    total_loss, grads = grad_fn(\n",
    "                        train_state.params, traj_batch, advantages, targets\n",
    "                    )\n",
    "                    train_state = train_state.apply_gradients(grads=grads)\n",
    "                    return train_state, total_loss\n",
    "\n",
    "                train_state, traj_batch, advantages, targets, rng = update_state\n",
    "                rng, _rng = jax.random.split(rng)\n",
    "                batch_size = config[\"MINIBATCH_SIZE\"] * config[\"NUM_MINIBATCHES\"]\n",
    "                assert (\n",
    "                    batch_size == config[\"NUM_STEPS\"] * config[\"NUM_ENVS\"]\n",
    "                ), \"batch size must be equal to number of steps * number of envs\"\n",
    "                permutation = jax.random.permutation(_rng, batch_size)\n",
    "                batch = (traj_batch, advantages, targets)\n",
    "                batch = jax.tree_util.tree_map(\n",
    "                    lambda x: x.reshape((batch_size,) + x.shape[2:]), batch\n",
    "                )\n",
    "                shuffled_batch = jax.tree_util.tree_map(\n",
    "                    lambda x: jnp.take(x, permutation, axis=0), batch\n",
    "                )\n",
    "                minibatches = jax.tree_util.tree_map(\n",
    "                    lambda x: jnp.reshape(\n",
    "                        x, [config[\"NUM_MINIBATCHES\"], -1] + list(x.shape[1:])\n",
    "                    ),\n",
    "                    shuffled_batch,\n",
    "                )\n",
    "                train_state, total_loss = jax.lax.scan(\n",
    "                    _update_minbatch, train_state, minibatches\n",
    "                )\n",
    "                update_state = (train_state, traj_batch, advantages, targets, rng)\n",
    "                return update_state, total_loss\n",
    "\n",
    "            update_state = (train_state, traj_batch, advantages, targets, rng)\n",
    "            update_state, loss_info = jax.lax.scan(\n",
    "                _update_epoch, update_state, None, config[\"UPDATE_EPOCHS\"]\n",
    "            )\n",
    "            train_state = update_state[0]\n",
    "            metric = traj_batch.info\n",
    "            rng = update_state[-1]\n",
    "            if config.get(\"DEBUG\"):\n",
    "\n",
    "                def callback(info):\n",
    "                    return_values = info[\"returned_episode_returns\"][\n",
    "                        info[\"returned_episode\"]\n",
    "                    ]\n",
    "                    timesteps = (\n",
    "                        info[\"timestep\"][info[\"returned_episode\"]] * config[\"NUM_ENVS\"]\n",
    "                    )\n",
    "                    for t in range(len(timesteps)):\n",
    "                        pass\n",
    "                        '''\n",
    "                        print(\n",
    "                            f\"global step={timesteps[t]}, episodic return={return_values[t]}\"\n",
    "                        )\n",
    "                        '''\n",
    "\n",
    "                jax.debug.callback(callback, metric)\n",
    "\n",
    "            runner_state = (train_state, env_state, last_obs, rng)\n",
    "            return runner_state, metric\n",
    "\n",
    "        rng, _rng = jax.random.split(rng)\n",
    "        runner_state = (train_state, env_state, obsv, _rng)\n",
    "        runner_state, metric = jax.lax.scan(\n",
    "            _update_step, runner_state, None, config[\"NUM_UPDATES\"]\n",
    "        )\n",
    "        return {\"runner_state\": runner_state, \"metrics\": metric}\n",
    "\n",
    "    return train\n",
    "\n",
    "\n"
   ]
  },
  {
   "cell_type": "code",
   "execution_count": 3,
   "id": "c5af2a43-8246-4b69-8562-e5abfd28fb5f",
   "metadata": {
    "execution": {
     "iopub.execute_input": "2024-01-22T10:26:56.327156Z",
     "iopub.status.busy": "2024-01-22T10:26:56.326771Z",
     "iopub.status.idle": "2024-01-22T10:26:56.557154Z",
     "shell.execute_reply": "2024-01-22T10:26:56.556364Z",
     "shell.execute_reply.started": "2024-01-22T10:26:56.327134Z"
    }
   },
   "outputs": [
    {
     "name": "stdout",
     "output_type": "stream",
     "text": [
      "[cuda(id=0)]\n"
     ]
    }
   ],
   "source": [
    "print(jax.devices())"
   ]
  },
  {
   "cell_type": "code",
   "execution_count": 4,
   "id": "edba3300-b79d-4a88-a00e-37657cb8c41f",
   "metadata": {
    "execution": {
     "iopub.execute_input": "2024-01-22T10:26:56.558394Z",
     "iopub.status.busy": "2024-01-22T10:26:56.558165Z",
     "iopub.status.idle": "2024-01-22T10:27:00.151652Z",
     "shell.execute_reply": "2024-01-22T10:27:00.150336Z",
     "shell.execute_reply.started": "2024-01-22T10:26:56.558373Z"
    },
    "scrolled": true
   },
   "outputs": [
    {
     "name": "stdout",
     "output_type": "stream",
     "text": [
      "[cuda(id=0)]\n"
     ]
    }
   ],
   "source": [
    "config = {\n",
    "    \"LR\": 3e-4,\n",
    "    \"NUM_ENVS\": 4096 * 64,#2048,\n",
    "    \"NUM_STEPS\": 10,\n",
    "    \"TOTAL_TIMESTEPS\": 409600 * 800,#5e7,\n",
    "    \"UPDATE_EPOCHS\": 4,\n",
    "    \"NUM_MINIBATCHES\": 32,\n",
    "    \"GAMMA\": 0.99,\n",
    "    \"GAE_LAMBDA\": 0.95,\n",
    "    \"CLIP_EPS\": 0.2,\n",
    "    \"ENT_COEF\": 0.0,\n",
    "    \"VF_COEF\": 0.5,\n",
    "    \"MAX_GRAD_NORM\": 0.5,\n",
    "    \"ACTIVATION\": \"relu\",#\"tanh\",\n",
    "    \"ENV_NAME\": \"TwoStageOTA-custom\",\n",
    "    \"ANNEAL_LR\": False,\n",
    "    \"NORMALIZE_ENV\": True,\n",
    "    \"DEBUG\": True,\n",
    "}\n",
    "print(jax.devices())\n",
    "\n",
    "rng = jax.random.PRNGKey(30)\n",
    "train_jit = jax.jit(make_train(config))\n",
    "#out = train_jit(rng)\n"
   ]
  },
  {
   "cell_type": "code",
   "execution_count": 5,
   "id": "88272ece-36f3-4325-8152-75433dc0b5e3",
   "metadata": {
    "execution": {
     "iopub.execute_input": "2024-01-22T10:27:00.153279Z",
     "iopub.status.busy": "2024-01-22T10:27:00.153034Z",
     "iopub.status.idle": "2024-01-22T10:29:21.295763Z",
     "shell.execute_reply": "2024-01-22T10:29:21.294987Z",
     "shell.execute_reply.started": "2024-01-22T10:27:00.153257Z"
    },
    "scrolled": true
   },
   "outputs": [
    {
     "name": "stdout",
     "output_type": "stream",
     "text": [
      "time: 137.98 s\n"
     ]
    },
    {
     "data": {
      "image/png": "[encoded data removed]",
      "text/plain": [
       "<Figure size 432x288 with 1 Axes>"
      ]
     },
     "metadata": {
      "needs_background": "light"
     },
     "output_type": "display_data"
    },
    {
     "data": {
      "text/plain": [
       "<Figure size 432x288 with 0 Axes>"
      ]
     },
     "metadata": {},
     "output_type": "display_data"
    }
   ],
   "source": [
    "import time\n",
    "import matplotlib.pyplot as plt\n",
    "rng = jax.random.PRNGKey(42)\n",
    "t0 = time.time()\n",
    "out = jax.block_until_ready(train_jit(rng))\n",
    "print(f\"time: {time.time() - t0:.2f} s\")\n",
    "plt.plot(out[\"metrics\"][\"returned_episode_returns\"].mean(-1).reshape(-1))\n",
    "plt.xlabel(\"Update Step\")\n",
    "plt.ylabel(\"Return\")\n",
    "plt.show()\n",
    "plt.savefig('foo.png')"
   ]
  },
  {
   "cell_type": "code",
   "execution_count": 6,
   "id": "a1ff6a8b-e6bd-4989-b4d7-55815a956c0c",
   "metadata": {
    "execution": {
     "iopub.execute_input": "2024-01-22T10:29:21.297275Z",
     "iopub.status.busy": "2024-01-22T10:29:21.296907Z",
     "iopub.status.idle": "2024-01-22T10:29:21.300301Z",
     "shell.execute_reply": "2024-01-22T10:29:21.299785Z",
     "shell.execute_reply.started": "2024-01-22T10:29:21.297245Z"
    },
    "scrolled": true
   },
   "outputs": [],
   "source": [
    "out_runner_state = (out['runner_state']) # train_state, env_state, last_obs, rng\n",
    "out_runner_env = ((out['runner_state'][1]))"
   ]
  },
  {
   "cell_type": "code",
   "execution_count": 7,
   "id": "588dcb98-8a24-4888-89e8-8530855ab1a4",
   "metadata": {
    "execution": {
     "iopub.execute_input": "2024-01-22T10:29:21.301273Z",
     "iopub.status.busy": "2024-01-22T10:29:21.301052Z",
     "iopub.status.idle": "2024-01-22T10:29:21.323894Z",
     "shell.execute_reply": "2024-01-22T10:29:21.323379Z",
     "shell.execute_reply.started": "2024-01-22T10:29:21.301253Z"
    }
   },
   "outputs": [
    {
     "name": "stdout",
     "output_type": "stream",
     "text": [
      "EnvState(x0=Array([-0.80772984, -1.        , -0.8155798 , ..., -1.        ,\n",
      "       -1.        , -0.7220823 ], dtype=float32), x1=Array([-1., -1., -1., ..., -1., -1., -1.], dtype=float32), x2=Array([0.446707  , 0.17568839, 0.7148404 , ..., 0.55311024, 0.44859123,\n",
      "       0.38524202], dtype=float32), x3=Array([0.12548548, 0.23495317, 0.7042673 , ..., 1.        , 0.74276775,\n",
      "       1.        ], dtype=float32), x4=Array([0.264692  , 0.38120788, 0.6196549 , ..., 0.3259938 , 0.57321906,\n",
      "       0.30869418], dtype=float32), x5=Array([-1., -1., -1., ..., -1., -1., -1.], dtype=float32), x6=Array([0.5566417 , 0.9691196 , 0.7699829 , ..., 1.        , 0.18876976,\n",
      "       1.        ], dtype=float32), x7=Array([1.        , 0.680218  , 0.68729246, ..., 1.        , 0.66386855,\n",
      "       1.        ], dtype=float32), x8=Array([ 0.3179239 ,  0.5606795 ,  0.21825066, ..., -0.12427047,\n",
      "        0.16509095,  0.07916529], dtype=float32), x9=Array([ 0.06191698,  1.        ,  0.36778733, ...,  0.6651311 ,\n",
      "        0.31277415, -0.17750934], dtype=float32), x10=Array([-0.87978613, -0.79608965, -1.        , ..., -1.        ,\n",
      "       -1.        , -1.        ], dtype=float32), x11=Array([0.8799127 , 0.98285186, 0.5768179 , ..., 0.7171473 , 0.7654245 ,\n",
      "       1.        ], dtype=float32), x12=Array([0.8243914 , 0.624038  , 0.68027914, ..., 0.7386891 , 1.        ,\n",
      "       0.01316011], dtype=float32), x13=Array([0.86195195, 0.19591305, 0.6381854 , ..., 1.        , 0.4468364 ,\n",
      "       0.9710355 ], dtype=float32), x14=Array([ 0.49850228, -0.15277761,  0.18884835, ..., -0.26140893,\n",
      "        1.        ,  0.84904253], dtype=float32), x15=Array([-0.85090744,  0.27851605, -0.33356583, ..., -0.29756245,\n",
      "       -1.        , -0.6026882 ], dtype=float32), time=Array([10, 10, 10, ..., 10, 10, 10], dtype=int32, weak_type=True))\n"
     ]
    }
   ],
   "source": [
    "print(out_runner_env.env_state.env_state.env_state)"
   ]
  },
  {
   "cell_type": "code",
   "execution_count": 8,
   "id": "6ff71b46-f8d3-425d-bbe6-b6192efbfbe5",
   "metadata": {
    "execution": {
     "iopub.execute_input": "2024-01-22T10:29:21.326313Z",
     "iopub.status.busy": "2024-01-22T10:29:21.326108Z",
     "iopub.status.idle": "2024-01-22T10:29:29.561666Z",
     "shell.execute_reply": "2024-01-22T10:29:29.560503Z",
     "shell.execute_reply.started": "2024-01-22T10:29:21.326294Z"
    }
   },
   "outputs": [
    {
     "name": "stdout",
     "output_type": "stream",
     "text": [
      "Reward top 1 percent cutoff:  -0.05048006664961571\n"
     ]
    },
    {
     "data": {
      "image/png": "[encoded data removed]",
      "text/plain": [
       "<Figure size 1080x1080 with 16 Axes>"
      ]
     },
     "metadata": {
      "needs_background": "light"
     },
     "output_type": "display_data"
    }
   ],
   "source": [
    "#a = out_runner_env.env_state.env_state.env_state.x11\n",
    "#plt.hist(a)\n",
    "# Assuming out_runner_env.env_state.env_state is your object with attributes\n",
    "A = out_runner_env.env_state.env_state.returned_episode_returns  # Array A\n",
    "\n",
    "# 1. Determine the threshold for the top 1 percent in array A\n",
    "percentile_99 = np.percentile(A, 99)\n",
    "print('Reward top 1 percent cutoff: ', percentile_99)\n",
    "\n",
    "# 2. Find the indices of values in array A that are above this threshold\n",
    "top_1_percent_indices = np.where(A >= percentile_99)[0]\n",
    "\n",
    "# Create a 4x4 grid of histograms\n",
    "fig, axes = plt.subplots(nrows=4, ncols=4, figsize=(15, 15))\n",
    "fig.suptitle('4x4 Histogram Grid for Top 1% Indices')\n",
    "\n",
    "for i in range(16):\n",
    "    # 3. Use these indices to extract values from each of the B arrays\n",
    "    attr_name = f\"x{i}\"\n",
    "    B = getattr(out_runner_env.env_state.env_state.env_state, attr_name)\n",
    "    extracted_values_from_B = B[top_1_percent_indices]\n",
    "    \n",
    "    # Determine the position of the current subplot\n",
    "    row, col = divmod(i, 4)\n",
    "    \n",
    "    # Plot the histogram\n",
    "    axes[row, col].hist(extracted_values_from_B, bins='auto', alpha=0.7, color='blue', edgecolor='black')\n",
    "    axes[row, col].set_title(f'Histogram of {attr_name}')\n",
    "    axes[row, col].set_xlabel('Value')\n",
    "    axes[row, col].set_ylabel('Frequency')\n",
    "\n",
    "# Adjust layout to prevent overlap\n",
    "plt.tight_layout(rect=[0, 0.03, 1, 0.95])\n",
    "plt.show()"
   ]
  },
  {
   "cell_type": "code",
   "execution_count": 9,
   "id": "c508e90b-4031-4c37-a513-d78219dce290",
   "metadata": {
    "execution": {
     "iopub.execute_input": "2024-01-22T10:29:29.564052Z",
     "iopub.status.busy": "2024-01-22T10:29:29.563805Z",
     "iopub.status.idle": "2024-01-22T10:29:29.568844Z",
     "shell.execute_reply": "2024-01-22T10:29:29.568152Z",
     "shell.execute_reply.started": "2024-01-22T10:29:29.564029Z"
    }
   },
   "outputs": [
    {
     "name": "stdout",
     "output_type": "stream",
     "text": [
      "[-0.80772984 -1.         -0.8155798  ... -1.         -1.\n",
      " -0.7220823 ]\n"
     ]
    }
   ],
   "source": [
    "print(out_runner_env.env_state.env_state.env_state.x0)"
   ]
  },
  {
   "cell_type": "code",
   "execution_count": 10,
   "id": "be1b4b84-27d6-4c51-a603-36f89bb273ab",
   "metadata": {
    "execution": {
     "iopub.execute_input": "2024-01-22T10:29:29.569908Z",
     "iopub.status.busy": "2024-01-22T10:29:29.569701Z",
     "iopub.status.idle": "2024-01-22T10:29:29.600752Z",
     "shell.execute_reply": "2024-01-22T10:29:29.600075Z",
     "shell.execute_reply.started": "2024-01-22T10:29:29.569888Z"
    }
   },
   "outputs": [
    {
     "data": {
      "text/plain": [
       "NormalizeVecObsEnvState(mean=Array([[-0.6059499 , -0.7170467 ,  0.11329106, ...,  0.3739178 ,\n",
       "         0.31049672, -0.04804913],\n",
       "       [-0.6059499 , -0.7170467 ,  0.11329106, ...,  0.3739178 ,\n",
       "         0.31049672, -0.04804913],\n",
       "       [-0.6059499 , -0.7170467 ,  0.11329106, ...,  0.3739178 ,\n",
       "         0.31049672, -0.04804913],\n",
       "       ...,\n",
       "       [-0.6059499 , -0.7170467 ,  0.11329106, ...,  0.3739178 ,\n",
       "         0.31049672, -0.04804913],\n",
       "       [-0.6059499 , -0.7170467 ,  0.11329106, ...,  0.3739178 ,\n",
       "         0.31049672, -0.04804913],\n",
       "       [-0.6059499 , -0.7170467 ,  0.11329106, ...,  0.3739178 ,\n",
       "         0.31049672, -0.04804913]], dtype=float32), var=Array([[0.294853  , 0.28361678, 0.26321933, ..., 0.28539574, 0.22713226,\n",
       "        0.40486786],\n",
       "       [0.294853  , 0.28361678, 0.26321933, ..., 0.28539574, 0.22713226,\n",
       "        0.40486786],\n",
       "       [0.294853  , 0.28361678, 0.26321933, ..., 0.28539574, 0.22713226,\n",
       "        0.40486786],\n",
       "       ...,\n",
       "       [0.294853  , 0.28361678, 0.26321933, ..., 0.28539574, 0.22713226,\n",
       "        0.40486786],\n",
       "       [0.294853  , 0.28361678, 0.26321933, ..., 0.28539574, 0.22713226,\n",
       "        0.40486786],\n",
       "       [0.294853  , 0.28361678, 0.26321933, ..., 0.28539574, 0.22713226,\n",
       "        0.40486786]], dtype=float32), count=Array(3.2794214e+08, dtype=float32, weak_type=True), env_state=LogEnvState(env_state=EnvState(x0=Array([-0.80772984, -1.        , -0.8155798 , ..., -1.        ,\n",
       "       -1.        , -0.7220823 ], dtype=float32), x1=Array([-1., -1., -1., ..., -1., -1., -1.], dtype=float32), x2=Array([0.446707  , 0.17568839, 0.7148404 , ..., 0.55311024, 0.44859123,\n",
       "       0.38524202], dtype=float32), x3=Array([0.12548548, 0.23495317, 0.7042673 , ..., 1.        , 0.74276775,\n",
       "       1.        ], dtype=float32), x4=Array([0.264692  , 0.38120788, 0.6196549 , ..., 0.3259938 , 0.57321906,\n",
       "       0.30869418], dtype=float32), x5=Array([-1., -1., -1., ..., -1., -1., -1.], dtype=float32), x6=Array([0.5566417 , 0.9691196 , 0.7699829 , ..., 1.        , 0.18876976,\n",
       "       1.        ], dtype=float32), x7=Array([1.        , 0.680218  , 0.68729246, ..., 1.        , 0.66386855,\n",
       "       1.        ], dtype=float32), x8=Array([ 0.3179239 ,  0.5606795 ,  0.21825066, ..., -0.12427047,\n",
       "        0.16509095,  0.07916529], dtype=float32), x9=Array([ 0.06191698,  1.        ,  0.36778733, ...,  0.6651311 ,\n",
       "        0.31277415, -0.17750934], dtype=float32), x10=Array([-0.87978613, -0.79608965, -1.        , ..., -1.        ,\n",
       "       -1.        , -1.        ], dtype=float32), x11=Array([0.8799127 , 0.98285186, 0.5768179 , ..., 0.7171473 , 0.7654245 ,\n",
       "       1.        ], dtype=float32), x12=Array([0.8243914 , 0.624038  , 0.68027914, ..., 0.7386891 , 1.        ,\n",
       "       0.01316011], dtype=float32), x13=Array([0.86195195, 0.19591305, 0.6381854 , ..., 1.        , 0.4468364 ,\n",
       "       0.9710355 ], dtype=float32), x14=Array([ 0.49850228, -0.15277761,  0.18884835, ..., -0.26140893,\n",
       "        1.        ,  0.84904253], dtype=float32), x15=Array([-0.85090744,  0.27851605, -0.33356583, ..., -0.29756245,\n",
       "       -1.        , -0.6026882 ], dtype=float32), time=Array([10, 10, 10, ..., 10, 10, 10], dtype=int32, weak_type=True)), episode_returns=Array([-1.6591412, -2.0242593, -2.0235507, ..., -2.9174702, -2.0245736,\n",
       "       -2.023773 ], dtype=float32), episode_lengths=Array([10, 10, 10, ..., 10, 10, 10], dtype=int32, weak_type=True), returned_episode_returns=Array([-2.0464842, -2.2422132, -2.0486367, ..., -2.3286235, -2.258132 ,\n",
       "       -2.67865  ], dtype=float32), returned_episode_lengths=Array([20, 20, 20, ..., 20, 20, 20], dtype=int32, weak_type=True), timestep=Array([1250, 1250, 1250, ..., 1250, 1250, 1250], dtype=int32, weak_type=True)))"
      ]
     },
     "execution_count": 10,
     "metadata": {},
     "output_type": "execute_result"
    }
   ],
   "source": [
    "out_runner_env.env_state"
   ]
  },
  {
   "cell_type": "code",
   "execution_count": 11,
   "id": "dfe8cd51-c432-4959-973f-dc503c630adc",
   "metadata": {
    "execution": {
     "iopub.execute_input": "2024-01-22T10:29:29.601763Z",
     "iopub.status.busy": "2024-01-22T10:29:29.601558Z",
     "iopub.status.idle": "2024-01-22T10:29:29.605748Z",
     "shell.execute_reply": "2024-01-22T10:29:29.605167Z",
     "shell.execute_reply.started": "2024-01-22T10:29:29.601744Z"
    }
   },
   "outputs": [
    {
     "data": {
      "text/plain": [
       "Array([-2.0464842, -2.2422132, -2.0486367, ..., -2.3286235, -2.258132 ,\n",
       "       -2.67865  ], dtype=float32)"
      ]
     },
     "execution_count": 11,
     "metadata": {},
     "output_type": "execute_result"
    }
   ],
   "source": [
    "out_runner_env.env_state.env_state.returned_episode_returns"
   ]
  },
  {
   "cell_type": "code",
   "execution_count": 12,
   "id": "68890080-c349-4195-9134-3f64168cb56a",
   "metadata": {
    "execution": {
     "iopub.execute_input": "2024-01-22T10:29:29.606758Z",
     "iopub.status.busy": "2024-01-22T10:29:29.606555Z",
     "iopub.status.idle": "2024-01-22T10:29:50.749406Z",
     "shell.execute_reply": "2024-01-22T10:29:50.748454Z",
     "shell.execute_reply.started": "2024-01-22T10:29:29.606740Z"
    }
   },
   "outputs": [
    {
     "data": {
      "text/plain": [
       "(array([3.5000e+01, 1.2700e+02, 3.1700e+02, 4.5100e+02, 8.1770e+03,\n",
       "        3.6434e+04, 7.0812e+04, 8.6111e+04, 4.5148e+04, 1.4532e+04]),\n",
       " array([-6.7716012 , -6.09885979, -5.42611837, -4.75337648, -4.08063507,\n",
       "        -3.40789366, -2.73515224, -2.06241059, -1.38966918, -0.71692765,\n",
       "        -0.04418612]),\n",
       " <BarContainer object of 10 artists>)"
      ]
     },
     "execution_count": 12,
     "metadata": {},
     "output_type": "execute_result"
    },
    {
     "data": {
      "image/png": "[encoded data removed]",
      "text/plain": [
       "<Figure size 432x288 with 1 Axes>"
      ]
     },
     "metadata": {
      "needs_background": "light"
     },
     "output_type": "display_data"
    }
   ],
   "source": [
    "plt.hist(out_runner_env.env_state.env_state.returned_episode_returns)"
   ]
  },
  {
   "cell_type": "code",
   "execution_count": 13,
   "id": "bb840187-99c8-4f17-9399-e5556bf47572",
   "metadata": {
    "execution": {
     "iopub.execute_input": "2024-01-22T10:29:50.751007Z",
     "iopub.status.busy": "2024-01-22T10:29:50.750761Z",
     "iopub.status.idle": "2024-01-22T10:29:50.929268Z",
     "shell.execute_reply": "2024-01-22T10:29:50.928421Z",
     "shell.execute_reply.started": "2024-01-22T10:29:50.750986Z"
    }
   },
   "outputs": [
    {
     "data": {
      "text/plain": [
       "Array(-0.04418612, dtype=float32)"
      ]
     },
     "execution_count": 13,
     "metadata": {},
     "output_type": "execute_result"
    }
   ],
   "source": [
    "np.max(out_runner_env.env_state.env_state.returned_episode_returns)"
   ]
  },
  {
   "cell_type": "code",
   "execution_count": 14,
   "id": "91ec7e8f-94ea-424a-8903-afcd01f90717",
   "metadata": {
    "execution": {
     "iopub.execute_input": "2024-01-22T10:29:50.930664Z",
     "iopub.status.busy": "2024-01-22T10:29:50.930431Z",
     "iopub.status.idle": "2024-01-22T10:29:51.111396Z",
     "shell.execute_reply": "2024-01-22T10:29:51.110273Z",
     "shell.execute_reply.started": "2024-01-22T10:29:50.930642Z"
    }
   },
   "outputs": [],
   "source": [
    "best_index = np.argmax(out_runner_env.env_state.env_state.returned_episode_returns)"
   ]
  },
  {
   "cell_type": "code",
   "execution_count": 15,
   "id": "bf55d0f6-655b-4e87-b3fb-c009253adbde",
   "metadata": {
    "execution": {
     "iopub.execute_input": "2024-01-22T10:29:51.112941Z",
     "iopub.status.busy": "2024-01-22T10:29:51.112701Z",
     "iopub.status.idle": "2024-01-22T10:29:51.326626Z",
     "shell.execute_reply": "2024-01-22T10:29:51.325709Z",
     "shell.execute_reply.started": "2024-01-22T10:29:51.112919Z"
    }
   },
   "outputs": [
    {
     "name": "stdout",
     "output_type": "stream",
     "text": [
      "x0: -0.4514915347099304\n",
      "x1: -1.0\n",
      "x2: 0.3505549132823944\n",
      "x3: 0.3140658736228943\n",
      "x4: 0.3393784463405609\n",
      "x5: -1.0\n",
      "x6: 0.749632716178894\n",
      "x7: 1.0\n",
      "x8: 0.03560461103916168\n",
      "x9: 0.24137648940086365\n",
      "x10: -1.0\n",
      "x11: 0.4245412349700928\n",
      "x12: 0.689985454082489\n",
      "x13: -0.13547247648239136\n",
      "x14: 0.3967600166797638\n",
      "x15: -0.9842419624328613\n"
     ]
    }
   ],
   "source": [
    "# Iterate through the attribute names 'x0' to 'x15'\n",
    "best_sample_gate_config = []\n",
    "for i in range(16):\n",
    "    # Construct the attribute name\n",
    "    attr_name = f\"x{i}\"\n",
    "    \n",
    "    # Use getattr to fetch the attribute from the env_state.env_state object\n",
    "    value = getattr(out_runner_env.env_state.env_state.env_state, attr_name)[best_index]\n",
    "    \n",
    "    # Print the attribute in the desired format\n",
    "    print(f'{attr_name}: {value}')\n",
    "    best_sample_gate_config.append(value)"
   ]
  },
  {
   "cell_type": "code",
   "execution_count": 16,
   "id": "dfcaaf61-1d90-40df-828d-c4b4bf246dc6",
   "metadata": {
    "execution": {
     "iopub.execute_input": "2024-01-22T10:29:51.327990Z",
     "iopub.status.busy": "2024-01-22T10:29:51.327759Z",
     "iopub.status.idle": "2024-01-22T10:30:11.530627Z",
     "shell.execute_reply": "2024-01-22T10:30:11.529648Z",
     "shell.execute_reply.started": "2024-01-22T10:29:51.327969Z"
    }
   },
   "outputs": [
    {
     "data": {
      "text/plain": [
       "(array([1.0220e+03, 2.6000e+01, 4.5000e+01, 4.7000e+01, 5.7000e+01,\n",
       "        6.9000e+01, 1.0100e+02, 1.4500e+02, 2.5500e+02, 2.7900e+02,\n",
       "        3.9400e+02, 5.2500e+02, 6.0200e+02, 7.6100e+02, 8.7500e+02,\n",
       "        9.5800e+02, 1.1150e+03, 1.1590e+03, 1.2170e+03, 1.3000e+03,\n",
       "        1.3750e+03, 1.3000e+03, 1.4750e+03, 1.4860e+03, 1.4990e+03,\n",
       "        1.4710e+03, 1.5410e+03, 1.5280e+03, 1.4800e+03, 3.0870e+03,\n",
       "        2.4380e+03, 1.7490e+03, 1.6790e+03, 1.6920e+03, 1.7150e+03,\n",
       "        1.7660e+03, 1.8720e+03, 1.9690e+03, 2.0400e+03, 2.2040e+03,\n",
       "        2.2960e+03, 2.4620e+03, 2.5640e+03, 2.6710e+03, 2.8540e+03,\n",
       "        3.1490e+03, 3.1100e+03, 3.2770e+03, 3.4790e+03, 3.5470e+03,\n",
       "        3.5800e+03, 3.6970e+03, 3.7570e+03, 3.7970e+03, 3.7640e+03,\n",
       "        3.6890e+03, 3.8640e+03, 3.6350e+03, 3.7890e+03, 3.8130e+03,\n",
       "        4.6860e+03, 4.3649e+04, 1.9960e+03, 1.9590e+03, 1.9740e+03,\n",
       "        1.9960e+03, 1.9740e+03, 2.0050e+03, 1.9110e+03, 1.9320e+03,\n",
       "        2.0230e+03, 2.1110e+03, 2.0850e+03, 2.0690e+03, 2.1510e+03,\n",
       "        2.1310e+03, 2.1170e+03, 2.1640e+03, 2.1680e+03, 2.2040e+03,\n",
       "        2.2040e+03, 2.2040e+03, 2.1900e+03, 2.1690e+03, 2.0830e+03,\n",
       "        2.2220e+03, 2.1400e+03, 2.2080e+03, 2.1260e+03, 2.1280e+03,\n",
       "        2.1830e+03, 2.2690e+03, 1.7395e+04, 5.8900e+02, 5.7300e+02,\n",
       "        5.5500e+02, 5.6400e+02, 5.8500e+02, 5.3900e+02, 5.6600e+02,\n",
       "        5.7600e+02, 6.0800e+02, 5.6800e+02, 5.5700e+02, 5.7100e+02,\n",
       "        5.7000e+02, 5.7200e+02, 5.5500e+02, 5.1400e+02, 5.3300e+02,\n",
       "        5.1700e+02, 5.1800e+02, 5.5000e+02, 5.8800e+02, 5.3400e+02,\n",
       "        5.2900e+02, 5.2100e+02, 5.5100e+02, 6.0300e+02, 5.5800e+02,\n",
       "        5.5900e+02, 5.7400e+02, 6.7100e+02, 3.3380e+03]),\n",
       " array([-4.        , -3.96809816, -3.93619657, -3.90429473, -3.87239313,\n",
       "        -3.84049129, -3.8085897 , -3.77668786, -3.74478626, -3.71288443,\n",
       "        -3.68098283, -3.64908099, -3.61717939, -3.58527756, -3.55337596,\n",
       "        -3.52147412, -3.48957229, -3.45767069, -3.42576885, -3.39386725,\n",
       "        -3.36196542, -3.33006382, -3.29816198, -3.26626039, -3.23435855,\n",
       "        -3.20245695, -3.17055511, -3.13865352, -3.10675168, -3.07485008,\n",
       "        -3.04294825, -3.01104665, -2.97914481, -2.94724298, -2.91534138,\n",
       "        -2.88343954, -2.85153794, -2.81963611, -2.78773451, -2.75583267,\n",
       "        -2.72393107, -2.69202924, -2.66012764, -2.6282258 , -2.59632421,\n",
       "        -2.56442237, -2.53252077, -2.50061893, -2.4687171 , -2.4368155 ,\n",
       "        -2.40491366, -2.37301207, -2.34111023, -2.30920863, -2.2773068 ,\n",
       "        -2.2454052 , -2.21350336, -2.18160176, -2.14969993, -2.11779833,\n",
       "        -2.08589649, -2.05399489, -2.02209306, -1.99019134, -1.95828962,\n",
       "        -1.92638791, -1.89448619, -1.86258447, -1.83068275, -1.79878104,\n",
       "        -1.76687932, -1.73497748, -1.70307577, -1.67117405, -1.63927233,\n",
       "        -1.60737062, -1.5754689 , -1.54356718, -1.51166546, -1.47976375,\n",
       "        -1.44786203, -1.41596031, -1.38405859, -1.35215688, -1.32025516,\n",
       "        -1.28835344, -1.25645161, -1.22454989, -1.19264817, -1.16074646,\n",
       "        -1.12884474, -1.09694302, -1.0650413 , -1.03313959, -1.00123787,\n",
       "        -0.96933615, -0.93743443, -0.90553272, -0.87363094, -0.84172922,\n",
       "        -0.80982751, -0.77792579, -0.74602407, -0.71412235, -0.68222064,\n",
       "        -0.65031892, -0.61841714, -0.58651543, -0.55461371, -0.52271199,\n",
       "        -0.49081028, -0.45890856, -0.42700681, -0.39510509, -0.36320338,\n",
       "        -0.33130166, -0.29939991, -0.2674982 , -0.23559648, -0.20369475,\n",
       "        -0.17179303, -0.1398913 , -0.10798957, -0.07608785, -0.04418612]),\n",
       " <BarContainer object of 124 artists>)"
      ]
     },
     "execution_count": 16,
     "metadata": {},
     "output_type": "execute_result"
    },
    {
     "data": {
      "image/png": "[encoded data removed]",
      "text/plain": [
       "<Figure size 432x288 with 1 Axes>"
      ]
     },
     "metadata": {
      "needs_background": "light"
     },
     "output_type": "display_data"
    }
   ],
   "source": [
    "raw = out_runner_env.env_state.env_state.returned_episode_returns\n",
    "clipped_data = np.clip(raw, -4, 0)\n",
    "plt.hist(clipped_data, bins='auto')"
   ]
  },
  {
   "cell_type": "code",
   "execution_count": 17,
   "id": "2f7edc36-23c7-4eb4-ab4b-e290b0f50df7",
   "metadata": {
    "execution": {
     "iopub.execute_input": "2024-01-22T10:30:11.532132Z",
     "iopub.status.busy": "2024-01-22T10:30:11.531896Z",
     "iopub.status.idle": "2024-01-22T10:30:11.536429Z",
     "shell.execute_reply": "2024-01-22T10:30:11.535802Z",
     "shell.execute_reply.started": "2024-01-22T10:30:11.532111Z"
    }
   },
   "outputs": [
    {
     "data": {
      "text/plain": [
       "4"
      ]
     },
     "execution_count": 17,
     "metadata": {},
     "output_type": "execute_result"
    }
   ],
   "source": [
    "len(out_runner_state)"
   ]
  },
  {
   "cell_type": "code",
   "execution_count": 18,
   "id": "75c7b288-7e40-45b4-a009-26317c272239",
   "metadata": {
    "execution": {
     "iopub.execute_input": "2024-01-22T10:30:11.537485Z",
     "iopub.status.busy": "2024-01-22T10:30:11.537279Z",
     "iopub.status.idle": "2024-01-22T10:30:11.543825Z",
     "shell.execute_reply": "2024-01-22T10:30:11.543242Z",
     "shell.execute_reply.started": "2024-01-22T10:30:11.537465Z"
    }
   },
   "outputs": [
    {
     "data": {
      "text/plain": [
       "flax.training.train_state.TrainState"
      ]
     },
     "execution_count": 18,
     "metadata": {},
     "output_type": "execute_result"
    }
   ],
   "source": [
    "type(out_runner_state[0])"
   ]
  },
  {
   "cell_type": "code",
   "execution_count": 19,
   "id": "dc07727e-eeb9-40f8-b008-3d403439a887",
   "metadata": {
    "execution": {
     "iopub.execute_input": "2024-01-22T10:30:11.544834Z",
     "iopub.status.busy": "2024-01-22T10:30:11.544631Z",
     "iopub.status.idle": "2024-01-22T10:30:11.550102Z",
     "shell.execute_reply": "2024-01-22T10:30:11.549525Z",
     "shell.execute_reply.started": "2024-01-22T10:30:11.544815Z"
    }
   },
   "outputs": [
    {
     "data": {
      "text/plain": [
       "(262144, 16)"
      ]
     },
     "execution_count": 19,
     "metadata": {},
     "output_type": "execute_result"
    }
   ],
   "source": [
    "out_runner_state[2].shape # env_state"
   ]
  },
  {
   "cell_type": "code",
   "execution_count": 20,
   "id": "1d3f8281-c6e6-4607-833b-15000aca9f9c",
   "metadata": {
    "execution": {
     "iopub.execute_input": "2024-01-22T10:30:11.551106Z",
     "iopub.status.busy": "2024-01-22T10:30:11.550894Z",
     "iopub.status.idle": "2024-01-22T10:30:11.695774Z",
     "shell.execute_reply": "2024-01-22T10:30:11.694918Z",
     "shell.execute_reply.started": "2024-01-22T10:30:11.551077Z"
    }
   },
   "outputs": [
    {
     "data": {
      "text/plain": [
       "Array([-0.3715996 , -0.53131104,  0.64987147, -0.68543893,  0.38545662,\n",
       "       -0.36188373,  0.24497175,  0.73610026, -0.05186936, -0.6928743 ,\n",
       "       -0.8875906 ,  0.7880059 ,  0.46457708,  0.9135377 ,  0.3944857 ,\n",
       "       -1.2617759 ], dtype=float32)"
      ]
     },
     "execution_count": 20,
     "metadata": {},
     "output_type": "execute_result"
    }
   ],
   "source": [
    "out_runner_state[2][0]"
   ]
  },
  {
   "cell_type": "code",
   "execution_count": 21,
   "id": "8f4160d0-14a8-42fa-bfcc-02f6890ab36a",
   "metadata": {
    "execution": {
     "iopub.execute_input": "2024-01-22T10:30:11.697172Z",
     "iopub.status.busy": "2024-01-22T10:30:11.696935Z",
     "iopub.status.idle": "2024-01-22T10:30:11.700971Z",
     "shell.execute_reply": "2024-01-22T10:30:11.700378Z",
     "shell.execute_reply.started": "2024-01-22T10:30:11.697151Z"
    }
   },
   "outputs": [],
   "source": [
    "return_rewards_mean = out[\"metrics\"][\"returned_episode_returns\"].mean(-1).reshape(-1)"
   ]
  },
  {
   "cell_type": "code",
   "execution_count": 22,
   "id": "6891d80f-e683-4817-a0bb-e9b58a360359",
   "metadata": {
    "execution": {
     "iopub.execute_input": "2024-01-22T10:30:11.701971Z",
     "iopub.status.busy": "2024-01-22T10:30:11.701767Z",
     "iopub.status.idle": "2024-01-22T10:30:11.708573Z",
     "shell.execute_reply": "2024-01-22T10:30:11.707991Z",
     "shell.execute_reply.started": "2024-01-22T10:30:11.701952Z"
    }
   },
   "outputs": [
    {
     "data": {
      "text/plain": [
       "(1250,)"
      ]
     },
     "execution_count": 22,
     "metadata": {},
     "output_type": "execute_result"
    }
   ],
   "source": [
    "return_rewards_mean.shape"
   ]
  },
  {
   "cell_type": "code",
   "execution_count": 23,
   "id": "2ff2d17c-9bdc-47da-83ee-8090046cc0dd",
   "metadata": {
    "execution": {
     "iopub.execute_input": "2024-01-22T10:30:11.709550Z",
     "iopub.status.busy": "2024-01-22T10:30:11.709351Z",
     "iopub.status.idle": "2024-01-22T10:30:12.466611Z",
     "shell.execute_reply": "2024-01-22T10:30:12.465539Z",
     "shell.execute_reply.started": "2024-01-22T10:30:11.709532Z"
    }
   },
   "outputs": [
    {
     "name": "stdout",
     "output_type": "stream",
     "text": [
      "best batch reward -2.0151389\n"
     ]
    }
   ],
   "source": [
    "print('best batch reward',(return_rewards_mean[return_rewards_mean < 0]).max()) # best batch reward"
   ]
  },
  {
   "cell_type": "code",
   "execution_count": 24,
   "id": "e1fc5eaa-6561-4c4b-a776-a16a2d97f054",
   "metadata": {
    "execution": {
     "iopub.execute_input": "2024-01-22T10:30:12.468141Z",
     "iopub.status.busy": "2024-01-22T10:30:12.467890Z",
     "iopub.status.idle": "2024-01-22T10:30:12.472948Z",
     "shell.execute_reply": "2024-01-22T10:30:12.472310Z",
     "shell.execute_reply.started": "2024-01-22T10:30:12.468118Z"
    }
   },
   "outputs": [
    {
     "data": {
      "text/plain": [
       "(125, 10, 262144)"
      ]
     },
     "execution_count": 24,
     "metadata": {},
     "output_type": "execute_result"
    }
   ],
   "source": [
    "out[\"metrics\"][\"returned_episode_returns\"].shape"
   ]
  },
  {
   "cell_type": "code",
   "execution_count": 25,
   "id": "9abab96e-1b57-4064-9816-dc03fedb5b5b",
   "metadata": {
    "execution": {
     "iopub.execute_input": "2024-01-22T10:30:12.473942Z",
     "iopub.status.busy": "2024-01-22T10:30:12.473738Z",
     "iopub.status.idle": "2024-01-22T10:30:12.499224Z",
     "shell.execute_reply": "2024-01-22T10:30:12.498397Z",
     "shell.execute_reply.started": "2024-01-22T10:30:12.473923Z"
    }
   },
   "outputs": [],
   "source": [
    "return_rewards = out[\"metrics\"][\"returned_episode_returns\"].reshape(-1)"
   ]
  },
  {
   "cell_type": "code",
   "execution_count": 26,
   "id": "de258d7d-29ad-451a-8be9-b90f6c181382",
   "metadata": {
    "execution": {
     "iopub.execute_input": "2024-01-22T10:30:12.502993Z",
     "iopub.status.busy": "2024-01-22T10:30:12.502781Z",
     "iopub.status.idle": "2024-01-22T10:30:12.506535Z",
     "shell.execute_reply": "2024-01-22T10:30:12.505877Z",
     "shell.execute_reply.started": "2024-01-22T10:30:12.502973Z"
    }
   },
   "outputs": [
    {
     "name": "stdout",
     "output_type": "stream",
     "text": [
      "return_rewards.shape (327680000,)\n"
     ]
    }
   ],
   "source": [
    "return_rewards.shape\n",
    "print('return_rewards.shape', return_rewards.shape)"
   ]
  },
  {
   "cell_type": "code",
   "execution_count": 27,
   "id": "b1a2e6f3-e4aa-4cc2-a6ce-10aa38653f81",
   "metadata": {
    "execution": {
     "iopub.execute_input": "2024-01-22T10:30:12.507823Z",
     "iopub.status.busy": "2024-01-22T10:30:12.507617Z",
     "iopub.status.idle": "2024-01-22T10:30:13.016810Z",
     "shell.execute_reply": "2024-01-22T10:30:13.016222Z",
     "shell.execute_reply.started": "2024-01-22T10:30:12.507804Z"
    }
   },
   "outputs": [
    {
     "data": {
      "text/plain": [
       "Array([ 0.       ,  0.       ,  0.       , ..., -2.3286235, -2.258132 ,\n",
       "       -2.67865  ], dtype=float32)"
      ]
     },
     "execution_count": 27,
     "metadata": {},
     "output_type": "execute_result"
    }
   ],
   "source": [
    "return_rewards"
   ]
  },
  {
   "cell_type": "code",
   "execution_count": 28,
   "id": "58b6f2f3-3393-478a-b07a-82f3e6bb56c2",
   "metadata": {
    "execution": {
     "iopub.execute_input": "2024-01-22T10:30:13.017824Z",
     "iopub.status.busy": "2024-01-22T10:30:13.017620Z",
     "iopub.status.idle": "2024-01-22T10:30:16.320021Z",
     "shell.execute_reply": "2024-01-22T10:30:16.318957Z",
     "shell.execute_reply.started": "2024-01-22T10:30:13.017805Z"
    }
   },
   "outputs": [
    {
     "name": "stdout",
     "output_type": "stream",
     "text": [
      "absolute best reward per sample -0.043977734\n"
     ]
    }
   ],
   "source": [
    "print('absolute best reward per sample', (return_rewards[return_rewards < 0]).max()) # absolute best reward per sample"
   ]
  },
  {
   "cell_type": "code",
   "execution_count": 29,
   "id": "eadfb1e6-dd6c-4092-a298-cf2b49b98c81",
   "metadata": {
    "execution": {
     "iopub.execute_input": "2024-01-22T10:30:16.321486Z",
     "iopub.status.busy": "2024-01-22T10:30:16.321251Z",
     "iopub.status.idle": "2024-01-22T10:30:18.529557Z",
     "shell.execute_reply": "2024-01-22T10:30:18.528562Z",
     "shell.execute_reply.started": "2024-01-22T10:30:16.321463Z"
    }
   },
   "outputs": [],
   "source": [
    "# Testing to see if FoM implementation is correct\n",
    "# Also check how much FoM diverges when using less accurate output result from mlp model as opposed to golden SPICE sim result\n",
    "\n",
    "from typing import Tuple, Optional\n",
    "import chex\n",
    "# Measure array (reference value from simulation)\n",
    "Measure = jnp.array([\n",
    "    1.738700e+08,  # ugf\n",
    "    1.342800e+02,  # pm\n",
    "    6.144200e-08,  # dc_gain\n",
    "    9.234700e+01,  # cmrr\n",
    "    6.605900e+01,  # psrr\n",
    "    1.114900e+02,  # os\n",
    "    1.798600e+00,  # upper_trig\n",
    "    1.779000e-02,  # lower_trig\n",
    "    5.159700e-04   # pwr\n",
    "])\n",
    "# Model output array (output from estimation model)\n",
    "mlp_output = jnp.array([ 1.72730023e+08, -1.30592169e+01,  3.13270706e-08,  1.03272513e+02,\n",
    "  6.93153630e+01,  1.19041006e+02,  1.76345655e+00,  8.49051201e-02,\n",
    "  5.16918122e-04])\n",
    "\n",
    "weights = jnp.array([1, 0, 1, 1, 1, 1, 1, 1, 1])\n",
    "class EnvParams:\n",
    "    x0_bounds: Tuple[float, float] = (100e-15, 10000e-15)\n",
    "    x1_bounds: Tuple[float, float] = (180e-9, 2e-6)\n",
    "    x2_bounds: Tuple[float, float] = (180e-9, 2e-6)\n",
    "    x3_bounds: Tuple[float, float] = (180e-9, 2e-6)\n",
    "    x4_bounds: Tuple[float, float] = (180e-9, 2e-6)\n",
    "    x5_bounds: Tuple[float, float] = (180e-9, 2e-6)\n",
    "    x6_bounds: Tuple[float, float] = (100e-15, 2000e-15)\n",
    "    x7_bounds: Tuple[float, float] = (1, 20)\n",
    "    x8_bounds: Tuple[float, float] = (1, 20)\n",
    "    x9_bounds: Tuple[float, float] = (1, 20)\n",
    "    x10_bounds: Tuple[float, float] = (220e-9, 150e-6)\n",
    "    x11_bounds: Tuple[float, float] = (220e-9, 150e-6)\n",
    "    x12_bounds: Tuple[float, float] = (220e-9, 150e-6)\n",
    "    x13_bounds: Tuple[float, float] = (220e-9, 150e-6)\n",
    "    x14_bounds: Tuple[float, float] = (220e-9, 150e-6)\n",
    "    x15_bounds: Tuple[float, float] = (1e2, 1e5)\n",
    "    out0_constraints: Tuple[float, int] = (30e6, 0)\n",
    "    out1_constraints: Tuple[float, int] = (60, 0)\n",
    "    out2_constraints: Tuple[float, int] = (100e-9, 1)\n",
    "    out3_constraints: Tuple[float, int] = (80, 0)\n",
    "    out4_constraints: Tuple[float, int] = (60, 0)\n",
    "    out5_constraints: Tuple[float, int] = (80, 0)\n",
    "    out6_constraints: Tuple[float, int] = (1.5, 0)\n",
    "    out7_constraints: Tuple[float, int] = (30e-3, 1)\n",
    "    out0_denormalize: Tuple[float, float] = (0.0, 645470000.0) # min, max, were mapped to [-1,1]\n",
    "    out1_denormalize: Tuple[float, float] = (-180.0, 179.99)\n",
    "    out2_denormalize: Tuple[float, float] = (1.2585e-11, 1e-06)\n",
    "    out3_denormalize: Tuple[float, float] = (-68.19, 210.7)\n",
    "    out4_denormalize: Tuple[float, float] = (-181.83, 99.497)\n",
    "    out5_denormalize: Tuple[float, float] = (-4.0129, 150.14)\n",
    "    out6_denormalize: Tuple[float, float] = (-1.3605, 1.8004)\n",
    "    out7_denormalize: Tuple[float, float] = (8.661e-06, 2.882)\n",
    "    out8_denormalize: Tuple[float, float] = (9.6713e-05, 0.0047157)\n",
    "    num_states: int = 16\n",
    "    num_spects: int = 9\n",
    "    max_steps_in_episode: int = 20\n",
    "\n",
    "# Takes in denormalized output to return FoM\n",
    "def compute_reward(model_output: chex.Array, params: EnvParams, weights) -> float:\n",
    "    # Uses FoM metric for reward\n",
    "    # Denormalize the model output to compare against constraints\n",
    "    # From [-1, 1] => [min, max]\n",
    "    denormalize_params_min = jnp.array([\n",
    "        params.out0_denormalize[0], params.out1_denormalize[0], params.out2_denormalize[0],\n",
    "        params.out3_denormalize[0], params.out4_denormalize[0], params.out5_denormalize[0],\n",
    "        params.out6_denormalize[0], params.out7_denormalize[0], params.out8_denormalize[0]\n",
    "    ])\n",
    "    denormalize_params_max = jnp.array([\n",
    "        params.out0_denormalize[1], params.out1_denormalize[1], params.out2_denormalize[1],\n",
    "        params.out3_denormalize[1], params.out4_denormalize[1], params.out5_denormalize[1],\n",
    "        params.out6_denormalize[1], params.out7_denormalize[1], params.out8_denormalize[1]\n",
    "    ])\n",
    "    \n",
    "    constraints = jnp.array([\n",
    "        params.out0_constraints, params.out1_constraints, params.out2_constraints,\n",
    "        params.out3_constraints, params.out4_constraints, params.out5_constraints,\n",
    "        params.out6_constraints, params.out7_constraints\n",
    "    ])\n",
    "\n",
    "    model_output = ((2 * (model_output - denormalize_params_min)) / (denormalize_params_max - denormalize_params_min)) - 1\n",
    "    out = denormalize_params_min + (((model_output + 1.0) * (denormalize_params_max - denormalize_params_min)) / 2.0)\n",
    "    #out = model_output * jnp.sqrt(denormalize_params[:, 1]) + denormalize_params[:, 0]\n",
    "\n",
    "    # Calculate scaled differences from constraints\n",
    "    scaled_diffs = jnp.where(\n",
    "        constraints[:, 1] == 1, \n",
    "        jnp.clip((out[:-1] - constraints[:, 0]) / constraints[:, 0], 0, 1),\n",
    "        jnp.clip((constraints[:, 0] - out[:-1]) / constraints[:, 0], 0, 1)\n",
    "    )\n",
    "    # Append out[-1] to scaled_diffs\n",
    "    scaled_diffs = jnp.append(scaled_diffs, out[-1])\n",
    "\n",
    "    # Apply weights and sum\n",
    "    weighted_diffs = weights * scaled_diffs\n",
    "    FoM = jnp.sum(weighted_diffs)\n",
    "\n",
    "    # Convert FoM to a reward\n",
    "    reward = -1 * FoM\n",
    "\n",
    "    return reward\n",
    "\n",
    "\n",
    "def denormalize_input(model_output: chex.Array, params: EnvParams, weights) -> float:\n",
    "    # Uses FoM metric for reward\n",
    "    # Denormalize the model output to compare against constraints\n",
    "    # From [-1, 1] => [min, max]\n",
    "    denormalize_params_min = jnp.array([\n",
    "        params.out0_denormalize[0], params.out1_denormalize[0], params.out2_denormalize[0],\n",
    "        params.out3_denormalize[0], params.out4_denormalize[0], params.out5_denormalize[0],\n",
    "        params.out6_denormalize[0], params.out7_denormalize[0], params.out8_denormalize[0]\n",
    "    ])\n",
    "    denormalize_params_max = jnp.array([\n",
    "        params.out0_denormalize[1], params.out1_denormalize[1], params.out2_denormalize[1],\n",
    "        params.out3_denormalize[1], params.out4_denormalize[1], params.out5_denormalize[1],\n",
    "        params.out6_denormalize[1], params.out7_denormalize[1], params.out8_denormalize[1]\n",
    "    ])\n",
    "    \n",
    "    constraints = jnp.array([\n",
    "        params.out0_constraints, params.out1_constraints, params.out2_constraints,\n",
    "        params.out3_constraints, params.out4_constraints, params.out5_constraints,\n",
    "        params.out6_constraints, params.out7_constraints\n",
    "    ])\n",
    "\n",
    "    #model_output = ((2 * (model_output - denormalize_params_min)) / (denormalize_params_max - denormalize_params_min)) - 1\n",
    "    out = denormalize_params_min + (((model_output + 1.0) * (denormalize_params_max - denormalize_params_min)) / 2.0)\n",
    "    return out\n",
    "\n",
    "def denormalize_input(norm_array, params):\n",
    "    \"\"\"\n",
    "    Denormalize a normalized numpy array based on the bounds in EnvParams.\n",
    "    \n",
    "    :param norm_array: Normalized numpy array with values in the range [-1, 1].\n",
    "    :param params: An instance of EnvParams containing the bounds for each element.\n",
    "    :return: A numpy array with denormalized values.\n",
    "    \"\"\"\n",
    "    bounds = np.array([\n",
    "        params.x0_bounds, params.x1_bounds, params.x2_bounds, params.x3_bounds,\n",
    "        params.x4_bounds, params.x5_bounds, params.x6_bounds, params.x7_bounds,\n",
    "        params.x8_bounds, params.x9_bounds, params.x10_bounds, params.x11_bounds,\n",
    "        params.x12_bounds, params.x13_bounds, params.x14_bounds, params.x15_bounds\n",
    "    ])\n",
    "    \n",
    "    # Calculate the range (high - low) for each element\n",
    "    ranges = bounds[:, 1] - bounds[:, 0]\n",
    "    \n",
    "    # Calculate the denormalized values\n",
    "    denorm_array = (norm_array + 1) * ranges / 2 + bounds[:, 0]\n",
    "    \n",
    "    return denorm_array\n",
    "\n",
    "reference_reward = compute_reward(Measure, EnvParams(), weights)"
   ]
  },
  {
   "cell_type": "code",
   "execution_count": 30,
   "id": "24364ec2-6a70-4694-a238-23471416397d",
   "metadata": {
    "execution": {
     "iopub.execute_input": "2024-01-22T10:30:18.530906Z",
     "iopub.status.busy": "2024-01-22T10:30:18.530678Z",
     "iopub.status.idle": "2024-01-22T10:30:18.539591Z",
     "shell.execute_reply": "2024-01-22T10:30:18.539071Z",
     "shell.execute_reply.started": "2024-01-22T10:30:18.530884Z"
    }
   },
   "outputs": [
    {
     "data": {
      "text/plain": [
       "0.00051597"
      ]
     },
     "execution_count": 30,
     "metadata": {},
     "output_type": "execute_result"
    }
   ],
   "source": [
    "# Reference FoM implementation\n",
    "import numpy as np\n",
    "\n",
    "# Measure array\n",
    "Measure = np.array([\n",
    "    1.738700e+08,  # ugf\n",
    "    1.342800e+02,  # pm\n",
    "    6.144200e-08,  # dc_gain\n",
    "    9.234700e+01,  # cmrr\n",
    "    6.605900e+01,  # psrr\n",
    "    1.114900e+02,  # os\n",
    "    1.798600e+00,  # upper_trig\n",
    "    1.779000e-02,  # lower_trig\n",
    "    5.159700e-04   # pwr\n",
    "])\n",
    "\n",
    "# Weights for each measurement\n",
    "weights = np.array([1, 0, 1, 1, 1, 1, 1, 1, 1])\n",
    "\n",
    "# Constraints\n",
    "constraints = np.array([\n",
    "    [30e6, 0],      # ugf\n",
    "    [60, 0],        # pm\n",
    "    [100e-9, 1],    # dc_gain\n",
    "    [80, 0],        # cmrr\n",
    "    [60, 0],        # psrr\n",
    "    [80, 0],        # os\n",
    "    [1.5, 0],       # upper_trig\n",
    "    [30e-3, 1]      # lower_trig\n",
    "])\n",
    "\n",
    "# Calculate FoM\n",
    "accum = 0\n",
    "len_constraints = len(constraints)\n",
    "for i in range(len_constraints):\n",
    "    if constraints[i][1] == 1:\n",
    "        accum += weights[i] * min(1.0, max(0.0, (Measure[i] - constraints[i][0]) / constraints[i][0]))\n",
    "    else:\n",
    "        accum += weights[i] * min(1.0, max(0.0, (constraints[i][0] - Measure[i]) / constraints[i][0]))\n",
    "\n",
    "FoM_out = accum + Measure[len_constraints]  # Adding the pwr value\n",
    "FoM_out\n"
   ]
  },
  {
   "cell_type": "code",
   "execution_count": 31,
   "id": "6be602cc-8226-4d11-82f8-4831d2d34f7d",
   "metadata": {
    "execution": {
     "iopub.execute_input": "2024-01-22T10:30:18.540486Z",
     "iopub.status.busy": "2024-01-22T10:30:18.540286Z",
     "iopub.status.idle": "2024-01-22T10:30:18.547707Z",
     "shell.execute_reply": "2024-01-22T10:30:18.547232Z",
     "shell.execute_reply.started": "2024-01-22T10:30:18.540467Z"
    }
   },
   "outputs": [
    {
     "data": {
      "text/plain": [
       "Array(-0.00051597, dtype=float32)"
      ]
     },
     "execution_count": 31,
     "metadata": {},
     "output_type": "execute_result"
    }
   ],
   "source": [
    "reference_reward"
   ]
  },
  {
   "cell_type": "code",
   "execution_count": 32,
   "id": "728081b7-a78a-4361-86a7-33b42d47dc64",
   "metadata": {
    "execution": {
     "iopub.execute_input": "2024-01-22T10:30:18.548582Z",
     "iopub.status.busy": "2024-01-22T10:30:18.548385Z",
     "iopub.status.idle": "2024-01-22T10:30:18.559727Z",
     "shell.execute_reply": "2024-01-22T10:30:18.559221Z",
     "shell.execute_reply.started": "2024-01-22T10:30:18.548564Z"
    }
   },
   "outputs": [],
   "source": [
    "mlp_model_reward = compute_reward(mlp_output, EnvParams(), weights)"
   ]
  },
  {
   "cell_type": "code",
   "execution_count": 33,
   "id": "5650ba6c-4f39-43a1-931f-5f930325304b",
   "metadata": {
    "execution": {
     "iopub.execute_input": "2024-01-22T10:30:18.560614Z",
     "iopub.status.busy": "2024-01-22T10:30:18.560415Z",
     "iopub.status.idle": "2024-01-22T10:30:18.563988Z",
     "shell.execute_reply": "2024-01-22T10:30:18.563479Z",
     "shell.execute_reply.started": "2024-01-22T10:30:18.560596Z"
    }
   },
   "outputs": [
    {
     "data": {
      "text/plain": [
       "Array(-1.0005169, dtype=float32)"
      ]
     },
     "execution_count": 33,
     "metadata": {},
     "output_type": "execute_result"
    }
   ],
   "source": [
    "mlp_model_reward"
   ]
  },
  {
   "cell_type": "code",
   "execution_count": 34,
   "id": "682d2705-2a85-4b2a-8cc1-f08b9d53fdf2",
   "metadata": {
    "execution": {
     "iopub.execute_input": "2024-01-22T10:30:18.564870Z",
     "iopub.status.busy": "2024-01-22T10:30:18.564672Z",
     "iopub.status.idle": "2024-01-22T10:30:18.571164Z",
     "shell.execute_reply": "2024-01-22T10:30:18.570617Z",
     "shell.execute_reply.started": "2024-01-22T10:30:18.564851Z"
    }
   },
   "outputs": [
    {
     "name": "stdout",
     "output_type": "stream",
     "text": [
      "[2.81511690e-12 1.80000000e-07 1.40900500e-06 1.37580000e-06\n",
      " 1.39883441e-06 1.80000000e-07 1.76215108e-12 2.00000000e+01\n",
      " 1.08382437e+01 1.27930769e+01 2.20000000e-07 1.06903893e-04\n",
      " 1.26783015e-04 6.49644662e-05 1.04823355e-04 8.87113976e+02]\n"
     ]
    }
   ],
   "source": [
    "# denormalize best sample gate config\n",
    "best_sample_gate_config = np.array(best_sample_gate_config)\n",
    "best_sample_gate_config_denorm = denormalize_input(best_sample_gate_config, EnvParams())\n",
    "print(best_sample_gate_config_denorm)"
   ]
  },
  {
   "cell_type": "code",
   "execution_count": 35,
   "id": "7f6cf6af-4735-4a14-b737-ad22911aec03",
   "metadata": {
    "execution": {
     "iopub.execute_input": "2024-01-22T10:30:18.572030Z",
     "iopub.status.busy": "2024-01-22T10:30:18.571830Z",
     "iopub.status.idle": "2024-01-22T10:30:18.578813Z",
     "shell.execute_reply": "2024-01-22T10:30:18.578310Z",
     "shell.execute_reply.started": "2024-01-22T10:30:18.572011Z"
    }
   },
   "outputs": [
    {
     "name": "stdout",
     "output_type": "stream",
     "text": [
      "x0: 2.815116903185844e-12\n",
      "x1: 1.8e-07\n",
      "x2: 1.4090049982070923e-06\n",
      "x3: 1.3757999992370605e-06\n",
      "x4: 1.3988344132900237e-06\n",
      "x5: 1.8e-07\n",
      "x6: 1.7621510803699492e-12\n",
      "x7: 20.0\n",
      "x8: 10.838243663311005\n",
      "x9: 12.793076932430267\n",
      "x10: 2.2e-07\n",
      "x11: 0.00010690389308691024\n",
      "x12: 0.00012678301512002944\n",
      "x13: 6.49644662362337e-05\n",
      "x14: 0.00010482335541725157\n",
      "x15: 887.1139764785767\n"
     ]
    }
   ],
   "source": [
    "for i in range(16):\n",
    "    # Construct the attribute name\n",
    "    attr_name = f\"x{i}\"\n",
    "    value = best_sample_gate_config_denorm[i]\n",
    "    print(f'{attr_name}: {value}')"
   ]
  },
  {
   "cell_type": "code",
   "execution_count": null,
   "id": "a47a6269-e2fa-4fa7-b9e2-7ae01a9f73cc",
   "metadata": {},
   "outputs": [],
   "source": []
  }
 ],
 "metadata": {
  "kernelspec": {
   "display_name": "Analog_jax",
   "language": "python",
   "name": "analog_jax"
  },
  "language_info": {
   "codemirror_mode": {
    "name": "ipython",
    "version": 3
   },
   "file_extension": ".py",
   "mimetype": "text/x-python",
   "name": "python",
   "nbconvert_exporter": "python",
   "pygments_lexer": "ipython3",
   "version": "3.9.18"
  }
 },
 "nbformat": 4,
 "nbformat_minor": 5
}
