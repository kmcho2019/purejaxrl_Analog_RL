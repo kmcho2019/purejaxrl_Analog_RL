{
 "cells": [
  {
   "cell_type": "code",
   "execution_count": 1,
   "id": "092815d2-3539-4eae-b17f-fc3af8fe6ba2",
   "metadata": {
    "execution": {
     "iopub.execute_input": "2024-01-22T10:03:52.959636Z",
     "iopub.status.busy": "2024-01-22T10:03:52.959443Z",
     "iopub.status.idle": "2024-01-22T10:03:52.966620Z",
     "shell.execute_reply": "2024-01-22T10:03:52.966020Z",
     "shell.execute_reply.started": "2024-01-22T10:03:52.959614Z"
    }
   },
   "outputs": [],
   "source": [
    "import os\n",
    "os.environ[\"CUDA_VISIBLE_DEVICES\"] = \"0\"  # Replace 0 with your GPU ID"
   ]
  },
  {
   "cell_type": "code",
   "execution_count": 2,
   "id": "c66db3f5-c704-47e6-949e-27ba4538f93e",
   "metadata": {
    "execution": {
     "iopub.execute_input": "2024-01-22T10:03:52.968225Z",
     "iopub.status.busy": "2024-01-22T10:03:52.968020Z",
     "iopub.status.idle": "2024-01-22T10:03:55.373070Z",
     "shell.execute_reply": "2024-01-22T10:03:55.371767Z",
     "shell.execute_reply.started": "2024-01-22T10:03:52.968207Z"
    }
   },
   "outputs": [],
   "source": [
    "import jax\n",
    "import jax.numpy as jnp\n",
    "import flax.linen as nn\n",
    "import numpy as np\n",
    "import optax\n",
    "import gymnax\n",
    "from flax.linen.initializers import constant, orthogonal\n",
    "from typing import Sequence, NamedTuple, Any\n",
    "from flax.training.train_state import TrainState\n",
    "import distrax\n",
    "from wrappers import (\n",
    "    GymnaxWrapper,\n",
    "    LogWrapper,\n",
    "    BraxGymnaxWrapper,\n",
    "    VecEnv,\n",
    "    NormalizeVecObservation,\n",
    "    NormalizeVecReward,\n",
    "    ClipAction,\n",
    ")\n",
    "\n",
    "\n",
    "class ActorCritic(nn.Module):\n",
    "    action_dim: Sequence[int]\n",
    "    activation: str = \"tanh\"\n",
    "\n",
    "    @nn.compact\n",
    "    def __call__(self, x):\n",
    "        if self.activation == \"relu\":\n",
    "            activation = nn.relu\n",
    "        else:\n",
    "            activation = nn.tanh\n",
    "        actor_mean = nn.Dense(\n",
    "            256, kernel_init=orthogonal(np.sqrt(2)), bias_init=constant(0.0)\n",
    "        )(x)\n",
    "        actor_mean = activation(actor_mean)\n",
    "        actor_mean = nn.Dense(\n",
    "            256, kernel_init=orthogonal(np.sqrt(2)), bias_init=constant(0.0)\n",
    "        )(actor_mean)\n",
    "        actor_mean = activation(actor_mean)\n",
    "        actor_mean = nn.Dense(\n",
    "            self.action_dim, kernel_init=orthogonal(0.01), bias_init=constant(0.0)\n",
    "        )(actor_mean)\n",
    "        actor_logtstd = self.param(\"log_std\", nn.initializers.zeros, (self.action_dim,))\n",
    "        pi = distrax.MultivariateNormalDiag(actor_mean, jnp.exp(actor_logtstd))\n",
    "\n",
    "        critic = nn.Dense(\n",
    "            256, kernel_init=orthogonal(np.sqrt(2)), bias_init=constant(0.0)\n",
    "        )(x)\n",
    "        critic = activation(critic)\n",
    "        critic = nn.Dense(\n",
    "            256, kernel_init=orthogonal(np.sqrt(2)), bias_init=constant(0.0)\n",
    "        )(critic)\n",
    "        critic = activation(critic)\n",
    "        critic = nn.Dense(1, kernel_init=orthogonal(1.0), bias_init=constant(0.0))(\n",
    "            critic\n",
    "        )\n",
    "\n",
    "        return pi, jnp.squeeze(critic, axis=-1)\n",
    "\n",
    "\n",
    "class Transition(NamedTuple):\n",
    "    done: jnp.ndarray\n",
    "    action: jnp.ndarray\n",
    "    value: jnp.ndarray\n",
    "    reward: jnp.ndarray\n",
    "    log_prob: jnp.ndarray\n",
    "    obs: jnp.ndarray\n",
    "    info: jnp.ndarray\n",
    "\n",
    "\n",
    "def make_train(config):\n",
    "    config[\"NUM_UPDATES\"] = (\n",
    "        config[\"TOTAL_TIMESTEPS\"] // config[\"NUM_STEPS\"] // config[\"NUM_ENVS\"]\n",
    "    )\n",
    "    config[\"MINIBATCH_SIZE\"] = (\n",
    "        config[\"NUM_ENVS\"] * config[\"NUM_STEPS\"] // config[\"NUM_MINIBATCHES\"]\n",
    "    )\n",
    "    #env, env_params = BraxGymnaxWrapper(config[\"ENV_NAME\"]), None\n",
    "    env, env_params = gymnax.make(config[\"ENV_NAME\"])\n",
    "    env = LogWrapper(env)\n",
    "    env = ClipAction(env)\n",
    "    env = VecEnv(env)\n",
    "    if config[\"NORMALIZE_ENV\"]:\n",
    "        env = NormalizeVecObservation(env)\n",
    "        env = NormalizeVecReward(env, config[\"GAMMA\"])\n",
    "\n",
    "    def linear_schedule(count):\n",
    "        frac = (\n",
    "            1.0\n",
    "            - (count // (config[\"NUM_MINIBATCHES\"] * config[\"UPDATE_EPOCHS\"]))\n",
    "            / config[\"NUM_UPDATES\"]\n",
    "        )\n",
    "        return config[\"LR\"] * frac\n",
    "\n",
    "    def train(rng):\n",
    "        # INIT NETWORK\n",
    "        network = ActorCritic(\n",
    "            env.action_space(env_params).shape[0], activation=config[\"ACTIVATION\"]\n",
    "        )\n",
    "        rng, _rng = jax.random.split(rng)\n",
    "        init_x = jnp.zeros(env.observation_space(env_params).shape)\n",
    "        network_params = network.init(_rng, init_x)\n",
    "        if config[\"ANNEAL_LR\"]:\n",
    "            tx = optax.chain(\n",
    "                optax.clip_by_global_norm(config[\"MAX_GRAD_NORM\"]),\n",
    "                optax.adam(learning_rate=linear_schedule, eps=1e-5),\n",
    "            )\n",
    "        else:\n",
    "            tx = optax.chain(\n",
    "                optax.clip_by_global_norm(config[\"MAX_GRAD_NORM\"]),\n",
    "                optax.adam(config[\"LR\"], eps=1e-5),\n",
    "            )\n",
    "        train_state = TrainState.create(\n",
    "            apply_fn=network.apply,\n",
    "            params=network_params,\n",
    "            tx=tx,\n",
    "        )\n",
    "\n",
    "        # INIT ENV\n",
    "        rng, _rng = jax.random.split(rng)\n",
    "        reset_rng = jax.random.split(_rng, config[\"NUM_ENVS\"])\n",
    "        obsv, env_state = env.reset(reset_rng, env_params)\n",
    "\n",
    "        # TRAIN LOOP\n",
    "        def _update_step(runner_state, unused):\n",
    "            # COLLECT TRAJECTORIES\n",
    "            def _env_step(runner_state, unused):\n",
    "                train_state, env_state, last_obs, rng = runner_state\n",
    "\n",
    "                # SELECT ACTION\n",
    "                rng, _rng = jax.random.split(rng)\n",
    "                pi, value = network.apply(train_state.params, last_obs)\n",
    "                action = pi.sample(seed=_rng)\n",
    "                log_prob = pi.log_prob(action)\n",
    "\n",
    "                # STEP ENV\n",
    "                rng, _rng = jax.random.split(rng)\n",
    "                rng_step = jax.random.split(_rng, config[\"NUM_ENVS\"])\n",
    "                obsv, env_state, reward, done, info = env.step(\n",
    "                    rng_step, env_state, action, env_params\n",
    "                )\n",
    "                transition = Transition(\n",
    "                    done, action, value, reward, log_prob, last_obs, info\n",
    "                )\n",
    "                runner_state = (train_state, env_state, obsv, rng)\n",
    "                return runner_state, transition\n",
    "\n",
    "            runner_state, traj_batch = jax.lax.scan(\n",
    "                _env_step, runner_state, None, config[\"NUM_STEPS\"]\n",
    "            )\n",
    "\n",
    "            # CALCULATE ADVANTAGE\n",
    "            train_state, env_state, last_obs, rng = runner_state\n",
    "            _, last_val = network.apply(train_state.params, last_obs)\n",
    "\n",
    "            def _calculate_gae(traj_batch, last_val):\n",
    "                def _get_advantages(gae_and_next_value, transition):\n",
    "                    gae, next_value = gae_and_next_value\n",
    "                    done, value, reward = (\n",
    "                        transition.done,\n",
    "                        transition.value,\n",
    "                        transition.reward,\n",
    "                    )\n",
    "                    delta = reward + config[\"GAMMA\"] * next_value * (1 - done) - value\n",
    "                    gae = (\n",
    "                        delta\n",
    "                        + config[\"GAMMA\"] * config[\"GAE_LAMBDA\"] * (1 - done) * gae\n",
    "                    )\n",
    "                    return (gae, value), gae\n",
    "\n",
    "                _, advantages = jax.lax.scan(\n",
    "                    _get_advantages,\n",
    "                    (jnp.zeros_like(last_val), last_val),\n",
    "                    traj_batch,\n",
    "                    reverse=True,\n",
    "                    unroll=16,\n",
    "                )\n",
    "                return advantages, advantages + traj_batch.value\n",
    "\n",
    "            advantages, targets = _calculate_gae(traj_batch, last_val)\n",
    "\n",
    "            # UPDATE NETWORK\n",
    "            def _update_epoch(update_state, unused):\n",
    "                def _update_minbatch(train_state, batch_info):\n",
    "                    traj_batch, advantages, targets = batch_info\n",
    "\n",
    "                    def _loss_fn(params, traj_batch, gae, targets):\n",
    "                        # RERUN NETWORK\n",
    "                        pi, value = network.apply(params, traj_batch.obs)\n",
    "                        log_prob = pi.log_prob(traj_batch.action)\n",
    "\n",
    "                        # CALCULATE VALUE LOSS\n",
    "                        value_pred_clipped = traj_batch.value + (\n",
    "                            value - traj_batch.value\n",
    "                        ).clip(-config[\"CLIP_EPS\"], config[\"CLIP_EPS\"])\n",
    "                        value_losses = jnp.square(value - targets)\n",
    "                        value_losses_clipped = jnp.square(value_pred_clipped - targets)\n",
    "                        value_loss = (\n",
    "                            0.5 * jnp.maximum(value_losses, value_losses_clipped).mean()\n",
    "                        )\n",
    "\n",
    "                        # CALCULATE ACTOR LOSS\n",
    "                        ratio = jnp.exp(log_prob - traj_batch.log_prob)\n",
    "                        gae = (gae - gae.mean()) / (gae.std() + 1e-8)\n",
    "                        loss_actor1 = ratio * gae\n",
    "                        loss_actor2 = (\n",
    "                            jnp.clip(\n",
    "                                ratio,\n",
    "                                1.0 - config[\"CLIP_EPS\"],\n",
    "                                1.0 + config[\"CLIP_EPS\"],\n",
    "                            )\n",
    "                            * gae\n",
    "                        )\n",
    "                        loss_actor = -jnp.minimum(loss_actor1, loss_actor2)\n",
    "                        loss_actor = loss_actor.mean()\n",
    "                        entropy = pi.entropy().mean()\n",
    "\n",
    "                        total_loss = (\n",
    "                            loss_actor\n",
    "                            + config[\"VF_COEF\"] * value_loss\n",
    "                            - config[\"ENT_COEF\"] * entropy\n",
    "                        )\n",
    "                        return total_loss, (value_loss, loss_actor, entropy)\n",
    "\n",
    "                    grad_fn = jax.value_and_grad(_loss_fn, has_aux=True)\n",
    "                    total_loss, grads = grad_fn(\n",
    "                        train_state.params, traj_batch, advantages, targets\n",
    "                    )\n",
    "                    train_state = train_state.apply_gradients(grads=grads)\n",
    "                    return train_state, total_loss\n",
    "\n",
    "                train_state, traj_batch, advantages, targets, rng = update_state\n",
    "                rng, _rng = jax.random.split(rng)\n",
    "                batch_size = config[\"MINIBATCH_SIZE\"] * config[\"NUM_MINIBATCHES\"]\n",
    "                assert (\n",
    "                    batch_size == config[\"NUM_STEPS\"] * config[\"NUM_ENVS\"]\n",
    "                ), \"batch size must be equal to number of steps * number of envs\"\n",
    "                permutation = jax.random.permutation(_rng, batch_size)\n",
    "                batch = (traj_batch, advantages, targets)\n",
    "                batch = jax.tree_util.tree_map(\n",
    "                    lambda x: x.reshape((batch_size,) + x.shape[2:]), batch\n",
    "                )\n",
    "                shuffled_batch = jax.tree_util.tree_map(\n",
    "                    lambda x: jnp.take(x, permutation, axis=0), batch\n",
    "                )\n",
    "                minibatches = jax.tree_util.tree_map(\n",
    "                    lambda x: jnp.reshape(\n",
    "                        x, [config[\"NUM_MINIBATCHES\"], -1] + list(x.shape[1:])\n",
    "                    ),\n",
    "                    shuffled_batch,\n",
    "                )\n",
    "                train_state, total_loss = jax.lax.scan(\n",
    "                    _update_minbatch, train_state, minibatches\n",
    "                )\n",
    "                update_state = (train_state, traj_batch, advantages, targets, rng)\n",
    "                return update_state, total_loss\n",
    "\n",
    "            update_state = (train_state, traj_batch, advantages, targets, rng)\n",
    "            update_state, loss_info = jax.lax.scan(\n",
    "                _update_epoch, update_state, None, config[\"UPDATE_EPOCHS\"]\n",
    "            )\n",
    "            train_state = update_state[0]\n",
    "            metric = traj_batch.info\n",
    "            rng = update_state[-1]\n",
    "            if config.get(\"DEBUG\"):\n",
    "\n",
    "                def callback(info):\n",
    "                    return_values = info[\"returned_episode_returns\"][\n",
    "                        info[\"returned_episode\"]\n",
    "                    ]\n",
    "                    timesteps = (\n",
    "                        info[\"timestep\"][info[\"returned_episode\"]] * config[\"NUM_ENVS\"]\n",
    "                    )\n",
    "                    for t in range(len(timesteps)):\n",
    "                        pass\n",
    "                        '''\n",
    "                        print(\n",
    "                            f\"global step={timesteps[t]}, episodic return={return_values[t]}\"\n",
    "                        )\n",
    "                        '''\n",
    "\n",
    "                jax.debug.callback(callback, metric)\n",
    "\n",
    "            runner_state = (train_state, env_state, last_obs, rng)\n",
    "            return runner_state, metric\n",
    "\n",
    "        rng, _rng = jax.random.split(rng)\n",
    "        runner_state = (train_state, env_state, obsv, _rng)\n",
    "        runner_state, metric = jax.lax.scan(\n",
    "            _update_step, runner_state, None, config[\"NUM_UPDATES\"]\n",
    "        )\n",
    "        return {\"runner_state\": runner_state, \"metrics\": metric}\n",
    "\n",
    "    return train\n",
    "\n",
    "\n"
   ]
  },
  {
   "cell_type": "code",
   "execution_count": 3,
   "id": "c5af2a43-8246-4b69-8562-e5abfd28fb5f",
   "metadata": {
    "execution": {
     "iopub.execute_input": "2024-01-22T10:03:55.374963Z",
     "iopub.status.busy": "2024-01-22T10:03:55.374597Z",
     "iopub.status.idle": "2024-01-22T10:03:55.603400Z",
     "shell.execute_reply": "2024-01-22T10:03:55.602728Z",
     "shell.execute_reply.started": "2024-01-22T10:03:55.374942Z"
    }
   },
   "outputs": [
    {
     "name": "stdout",
     "output_type": "stream",
     "text": [
      "[cuda(id=0)]\n"
     ]
    }
   ],
   "source": [
    "print(jax.devices())"
   ]
  },
  {
   "cell_type": "code",
   "execution_count": 4,
   "id": "edba3300-b79d-4a88-a00e-37657cb8c41f",
   "metadata": {
    "execution": {
     "iopub.execute_input": "2024-01-22T10:03:55.604583Z",
     "iopub.status.busy": "2024-01-22T10:03:55.604349Z",
     "iopub.status.idle": "2024-01-22T10:03:59.228467Z",
     "shell.execute_reply": "2024-01-22T10:03:59.227296Z",
     "shell.execute_reply.started": "2024-01-22T10:03:55.604561Z"
    },
    "scrolled": true
   },
   "outputs": [
    {
     "name": "stdout",
     "output_type": "stream",
     "text": [
      "[cuda(id=0)]\n"
     ]
    }
   ],
   "source": [
    "config = {\n",
    "    \"LR\": 3e-4,\n",
    "    \"NUM_ENVS\": 4096 * 64,#2048,\n",
    "    \"NUM_STEPS\": 10,\n",
    "    \"TOTAL_TIMESTEPS\": 409600 * 800,#5e7,\n",
    "    \"UPDATE_EPOCHS\": 4,\n",
    "    \"NUM_MINIBATCHES\": 32,\n",
    "    \"GAMMA\": 0.99,\n",
    "    \"GAE_LAMBDA\": 0.95,\n",
    "    \"CLIP_EPS\": 0.2,\n",
    "    \"ENT_COEF\": 0.0,\n",
    "    \"VF_COEF\": 0.5,\n",
    "    \"MAX_GRAD_NORM\": 0.5,\n",
    "    \"ACTIVATION\": \"relu\",#\"tanh\",\n",
    "    \"ENV_NAME\": \"TwoStageOTA-custom\",\n",
    "    \"ANNEAL_LR\": False,\n",
    "    \"NORMALIZE_ENV\": True,\n",
    "    \"DEBUG\": True,\n",
    "}\n",
    "print(jax.devices())\n",
    "\n",
    "rng = jax.random.PRNGKey(30)\n",
    "train_jit = jax.jit(make_train(config))\n",
    "#out = train_jit(rng)\n"
   ]
  },
  {
   "cell_type": "code",
   "execution_count": 5,
   "id": "88272ece-36f3-4325-8152-75433dc0b5e3",
   "metadata": {
    "execution": {
     "iopub.execute_input": "2024-01-22T10:03:59.230060Z",
     "iopub.status.busy": "2024-01-22T10:03:59.229795Z",
     "iopub.status.idle": "2024-01-22T10:13:04.400765Z",
     "shell.execute_reply": "2024-01-22T10:13:04.399795Z",
     "shell.execute_reply.started": "2024-01-22T10:03:59.230038Z"
    },
    "scrolled": true
   },
   "outputs": [
    {
     "name": "stdout",
     "output_type": "stream",
     "text": [
      "time: 541.91 s\n"
     ]
    },
    {
     "data": {
      "image/png": "[encoded data removed]",
      "text/plain": [
       "<Figure size 432x288 with 1 Axes>"
      ]
     },
     "metadata": {
      "needs_background": "light"
     },
     "output_type": "display_data"
    },
    {
     "data": {
      "text/plain": [
       "<Figure size 432x288 with 0 Axes>"
      ]
     },
     "metadata": {},
     "output_type": "display_data"
    }
   ],
   "source": [
    "import time\n",
    "import matplotlib.pyplot as plt\n",
    "rng = jax.random.PRNGKey(42)\n",
    "t0 = time.time()\n",
    "out = jax.block_until_ready(train_jit(rng))\n",
    "print(f\"time: {time.time() - t0:.2f} s\")\n",
    "plt.plot(out[\"metrics\"][\"returned_episode_returns\"].mean(-1).reshape(-1))\n",
    "plt.xlabel(\"Update Step\")\n",
    "plt.ylabel(\"Return\")\n",
    "plt.show()\n",
    "plt.savefig('foo.png')"
   ]
  },
  {
   "cell_type": "code",
   "execution_count": 6,
   "id": "a1ff6a8b-e6bd-4989-b4d7-55815a956c0c",
   "metadata": {
    "execution": {
     "iopub.execute_input": "2024-01-22T10:13:04.402501Z",
     "iopub.status.busy": "2024-01-22T10:13:04.402173Z",
     "iopub.status.idle": "2024-01-22T10:13:04.406058Z",
     "shell.execute_reply": "2024-01-22T10:13:04.405440Z",
     "shell.execute_reply.started": "2024-01-22T10:13:04.402476Z"
    },
    "scrolled": true
   },
   "outputs": [],
   "source": [
    "out_runner_state = (out['runner_state']) # train_state, env_state, last_obs, rng\n",
    "out_runner_env = ((out['runner_state'][1]))"
   ]
  },
  {
   "cell_type": "code",
   "execution_count": 7,
   "id": "588dcb98-8a24-4888-89e8-8530855ab1a4",
   "metadata": {
    "execution": {
     "iopub.execute_input": "2024-01-22T10:13:04.407270Z",
     "iopub.status.busy": "2024-01-22T10:13:04.406942Z",
     "iopub.status.idle": "2024-01-22T10:13:04.434185Z",
     "shell.execute_reply": "2024-01-22T10:13:04.433499Z",
     "shell.execute_reply.started": "2024-01-22T10:13:04.407249Z"
    }
   },
   "outputs": [
    {
     "name": "stdout",
     "output_type": "stream",
     "text": [
      "EnvState(x0=Array([-0.72218204, -0.13062453, -0.91407585, ..., -0.26536036,\n",
      "        0.14157176,  0.16348624], dtype=float32), x1=Array([-0.03269172,  0.1685307 , -0.38017344, ...,  0.98881674,\n",
      "        0.06107497,  0.05090046], dtype=float32), x2=Array([-0.19169402, -0.16374207,  0.03582025, ..., -0.28734517,\n",
      "        0.4821303 ,  0.80585885], dtype=float32), x3=Array([ 0.6332543 ,  0.6860781 ,  0.16982484, ...,  0.8757901 ,\n",
      "       -0.05635333,  0.08949709], dtype=float32), x4=Array([ 0.86524105, -0.2818787 ,  0.21309781, ...,  0.19953156,\n",
      "        0.8923392 ,  0.09705591], dtype=float32), x5=Array([ 0.82164955, -0.67393756, -0.99658656, ...,  0.4870386 ,\n",
      "       -0.22598577,  0.5263655 ], dtype=float32), x6=Array([-0.27028775, -0.24857259, -0.78832006, ..., -0.65021276,\n",
      "       -0.2763934 ,  0.22644758], dtype=float32), x7=Array([ 0.197505  ,  0.21707344,  0.72312236, ..., -0.33275723,\n",
      "        0.9245894 , -0.9961815 ], dtype=float32), x8=Array([ 0.9426751 ,  0.8891771 ,  0.31181908, ..., -0.7320645 ,\n",
      "        0.8413155 ,  0.46665454], dtype=float32), x9=Array([-0.01619935, -0.34962845, -0.8372171 , ..., -0.72625756,\n",
      "        0.4017067 ,  0.86434746], dtype=float32), x10=Array([-0.70191526, -0.95911765,  0.8186054 , ...,  0.48125982,\n",
      "        0.37905526,  0.5461564 ], dtype=float32), x11=Array([-0.40164757,  0.4549513 , -0.17589784, ..., -0.04663277,\n",
      "        0.6955881 ,  0.49093318], dtype=float32), x12=Array([-0.0273819 , -0.91831684,  0.7195294 , ..., -0.515903  ,\n",
      "        0.27840805,  0.3238001 ], dtype=float32), x13=Array([ 0.7557905 , -0.01717997,  0.87607837, ...,  0.04925418,\n",
      "        0.49416637,  0.5711193 ], dtype=float32), x14=Array([-0.5468836 ,  0.21205163,  0.30457997, ...,  0.75036716,\n",
      "        0.64256334, -0.99046254], dtype=float32), x15=Array([ 0.25437498,  0.26969147, -0.6284931 , ..., -0.695235  ,\n",
      "        0.5135405 , -0.4159751 ], dtype=float32), time=Array([0, 0, 0, ..., 0, 0, 0], dtype=int32, weak_type=True))\n"
     ]
    }
   ],
   "source": [
    "print(out_runner_env.env_state.env_state.env_state)"
   ]
  },
  {
   "cell_type": "code",
   "execution_count": 8,
   "id": "6ff71b46-f8d3-425d-bbe6-b6192efbfbe5",
   "metadata": {
    "execution": {
     "iopub.execute_input": "2024-01-22T10:13:04.437905Z",
     "iopub.status.busy": "2024-01-22T10:13:04.437695Z",
     "iopub.status.idle": "2024-01-22T10:13:12.330137Z",
     "shell.execute_reply": "2024-01-22T10:13:12.329220Z",
     "shell.execute_reply.started": "2024-01-22T10:13:04.437886Z"
    }
   },
   "outputs": [
    {
     "name": "stdout",
     "output_type": "stream",
     "text": [
      "Reward top 1 percent cutoff:  -0.025732167493551967\n"
     ]
    },
    {
     "data": {
      "image/png": "[encoded data removed]",
      "text/plain": [
       "<Figure size 1080x1080 with 16 Axes>"
      ]
     },
     "metadata": {
      "needs_background": "light"
     },
     "output_type": "display_data"
    }
   ],
   "source": [
    "#a = out_runner_env.env_state.env_state.env_state.x11\n",
    "#plt.hist(a)\n",
    "# Assuming out_runner_env.env_state.env_state is your object with attributes\n",
    "A = out_runner_env.env_state.env_state.returned_episode_returns  # Array A\n",
    "\n",
    "# 1. Determine the threshold for the top 1 percent in array A\n",
    "percentile_99 = np.percentile(A, 99)\n",
    "print('Reward top 1 percent cutoff: ', percentile_99)\n",
    "\n",
    "# 2. Find the indices of values in array A that are above this threshold\n",
    "top_1_percent_indices = np.where(A >= percentile_99)[0]\n",
    "\n",
    "# Create a 4x4 grid of histograms\n",
    "fig, axes = plt.subplots(nrows=4, ncols=4, figsize=(15, 15))\n",
    "fig.suptitle('4x4 Histogram Grid for Top 1% Indices')\n",
    "\n",
    "for i in range(16):\n",
    "    # 3. Use these indices to extract values from each of the B arrays\n",
    "    attr_name = f\"x{i}\"\n",
    "    B = getattr(out_runner_env.env_state.env_state.env_state, attr_name)\n",
    "    extracted_values_from_B = B[top_1_percent_indices]\n",
    "    \n",
    "    # Determine the position of the current subplot\n",
    "    row, col = divmod(i, 4)\n",
    "    \n",
    "    # Plot the histogram\n",
    "    axes[row, col].hist(extracted_values_from_B, bins='auto', alpha=0.7, color='blue', edgecolor='black')\n",
    "    axes[row, col].set_title(f'Histogram of {attr_name}')\n",
    "    axes[row, col].set_xlabel('Value')\n",
    "    axes[row, col].set_ylabel('Frequency')\n",
    "\n",
    "# Adjust layout to prevent overlap\n",
    "plt.tight_layout(rect=[0, 0.03, 1, 0.95])\n",
    "plt.show()"
   ]
  },
  {
   "cell_type": "code",
   "execution_count": 9,
   "id": "c508e90b-4031-4c37-a513-d78219dce290",
   "metadata": {
    "execution": {
     "iopub.execute_input": "2024-01-22T10:13:12.332324Z",
     "iopub.status.busy": "2024-01-22T10:13:12.332084Z",
     "iopub.status.idle": "2024-01-22T10:13:12.336474Z",
     "shell.execute_reply": "2024-01-22T10:13:12.335789Z",
     "shell.execute_reply.started": "2024-01-22T10:13:12.332303Z"
    }
   },
   "outputs": [
    {
     "name": "stdout",
     "output_type": "stream",
     "text": [
      "[-0.72218204 -0.13062453 -0.91407585 ... -0.26536036  0.14157176\n",
      "  0.16348624]\n"
     ]
    }
   ],
   "source": [
    "print(out_runner_env.env_state.env_state.env_state.x0)"
   ]
  },
  {
   "cell_type": "code",
   "execution_count": 10,
   "id": "be1b4b84-27d6-4c51-a603-36f89bb273ab",
   "metadata": {
    "execution": {
     "iopub.execute_input": "2024-01-22T10:13:12.337548Z",
     "iopub.status.busy": "2024-01-22T10:13:12.337343Z",
     "iopub.status.idle": "2024-01-22T10:13:12.363621Z",
     "shell.execute_reply": "2024-01-22T10:13:12.363035Z",
     "shell.execute_reply.started": "2024-01-22T10:13:12.337528Z"
    }
   },
   "outputs": [
    {
     "data": {
      "text/plain": [
       "NormalizeVecObsEnvState(mean=Array([[-0.8441279 , -0.8911481 ,  0.3116894 , ...,  0.64936733,\n",
       "         0.5281312 , -0.5274082 ],\n",
       "       [-0.8441279 , -0.8911481 ,  0.3116894 , ...,  0.64936733,\n",
       "         0.5281312 , -0.5274082 ],\n",
       "       [-0.8441279 , -0.8911481 ,  0.3116894 , ...,  0.64936733,\n",
       "         0.5281312 , -0.5274082 ],\n",
       "       ...,\n",
       "       [-0.8441279 , -0.8911481 ,  0.3116894 , ...,  0.64936733,\n",
       "         0.5281312 , -0.5274082 ],\n",
       "       [-0.8441279 , -0.8911481 ,  0.3116894 , ...,  0.64936733,\n",
       "         0.5281312 , -0.5274082 ],\n",
       "       [-0.8441279 , -0.8911481 ,  0.3116894 , ...,  0.64936733,\n",
       "         0.5281312 , -0.5274082 ]], dtype=float32), var=Array([[0.1479358 , 0.12946907, 0.12253593, ..., 0.15591255, 0.13214225,\n",
       "        0.3345348 ],\n",
       "       [0.1479358 , 0.12946907, 0.12253593, ..., 0.15591255, 0.13214225,\n",
       "        0.3345348 ],\n",
       "       [0.1479358 , 0.12946907, 0.12253593, ..., 0.15591255, 0.13214225,\n",
       "        0.3345348 ],\n",
       "       ...,\n",
       "       [0.1479358 , 0.12946907, 0.12253593, ..., 0.15591255, 0.13214225,\n",
       "        0.3345348 ],\n",
       "       [0.1479358 , 0.12946907, 0.12253593, ..., 0.15591255, 0.13214225,\n",
       "        0.3345348 ],\n",
       "       [0.1479358 , 0.12946907, 0.12253593, ..., 0.15591255, 0.13214225,\n",
       "        0.3345348 ]], dtype=float32), count=Array(1.3109821e+09, dtype=float32, weak_type=True), env_state=LogEnvState(env_state=EnvState(x0=Array([-0.72218204, -0.13062453, -0.91407585, ..., -0.26536036,\n",
       "        0.14157176,  0.16348624], dtype=float32), x1=Array([-0.03269172,  0.1685307 , -0.38017344, ...,  0.98881674,\n",
       "        0.06107497,  0.05090046], dtype=float32), x2=Array([-0.19169402, -0.16374207,  0.03582025, ..., -0.28734517,\n",
       "        0.4821303 ,  0.80585885], dtype=float32), x3=Array([ 0.6332543 ,  0.6860781 ,  0.16982484, ...,  0.8757901 ,\n",
       "       -0.05635333,  0.08949709], dtype=float32), x4=Array([ 0.86524105, -0.2818787 ,  0.21309781, ...,  0.19953156,\n",
       "        0.8923392 ,  0.09705591], dtype=float32), x5=Array([ 0.82164955, -0.67393756, -0.99658656, ...,  0.4870386 ,\n",
       "       -0.22598577,  0.5263655 ], dtype=float32), x6=Array([-0.27028775, -0.24857259, -0.78832006, ..., -0.65021276,\n",
       "       -0.2763934 ,  0.22644758], dtype=float32), x7=Array([ 0.197505  ,  0.21707344,  0.72312236, ..., -0.33275723,\n",
       "        0.9245894 , -0.9961815 ], dtype=float32), x8=Array([ 0.9426751 ,  0.8891771 ,  0.31181908, ..., -0.7320645 ,\n",
       "        0.8413155 ,  0.46665454], dtype=float32), x9=Array([-0.01619935, -0.34962845, -0.8372171 , ..., -0.72625756,\n",
       "        0.4017067 ,  0.86434746], dtype=float32), x10=Array([-0.70191526, -0.95911765,  0.8186054 , ...,  0.48125982,\n",
       "        0.37905526,  0.5461564 ], dtype=float32), x11=Array([-0.40164757,  0.4549513 , -0.17589784, ..., -0.04663277,\n",
       "        0.6955881 ,  0.49093318], dtype=float32), x12=Array([-0.0273819 , -0.91831684,  0.7195294 , ..., -0.515903  ,\n",
       "        0.27840805,  0.3238001 ], dtype=float32), x13=Array([ 0.7557905 , -0.01717997,  0.87607837, ...,  0.04925418,\n",
       "        0.49416637,  0.5711193 ], dtype=float32), x14=Array([-0.5468836 ,  0.21205163,  0.30457997, ...,  0.75036716,\n",
       "        0.64256334, -0.99046254], dtype=float32), x15=Array([ 0.25437498,  0.26969147, -0.6284931 , ..., -0.695235  ,\n",
       "        0.5135405 , -0.4159751 ], dtype=float32), time=Array([0, 0, 0, ..., 0, 0, 0], dtype=int32, weak_type=True)), episode_returns=Array([-0., -0., -0., ..., -0., -0., -0.], dtype=float32), episode_lengths=Array([0, 0, 0, ..., 0, 0, 0], dtype=int32, weak_type=True), returned_episode_returns=Array([-1.3661273 , -3.0247338 , -1.4853898 , ..., -0.5757306 ,\n",
       "       -1.9006463 , -0.20455638], dtype=float32), returned_episode_lengths=Array([20, 20, 20, ..., 20, 20, 20], dtype=int32, weak_type=True), timestep=Array([5000, 5000, 5000, ..., 5000, 5000, 5000], dtype=int32, weak_type=True)))"
      ]
     },
     "execution_count": 10,
     "metadata": {},
     "output_type": "execute_result"
    }
   ],
   "source": [
    "out_runner_env.env_state"
   ]
  },
  {
   "cell_type": "code",
   "execution_count": 11,
   "id": "dfe8cd51-c432-4959-973f-dc503c630adc",
   "metadata": {
    "execution": {
     "iopub.execute_input": "2024-01-22T10:13:12.364578Z",
     "iopub.status.busy": "2024-01-22T10:13:12.364384Z",
     "iopub.status.idle": "2024-01-22T10:13:12.368410Z",
     "shell.execute_reply": "2024-01-22T10:13:12.367794Z",
     "shell.execute_reply.started": "2024-01-22T10:13:12.364559Z"
    }
   },
   "outputs": [
    {
     "data": {
      "text/plain": [
       "Array([-1.3661273 , -3.0247338 , -1.4853898 , ..., -0.5757306 ,\n",
       "       -1.9006463 , -0.20455638], dtype=float32)"
      ]
     },
     "execution_count": 11,
     "metadata": {},
     "output_type": "execute_result"
    }
   ],
   "source": [
    "out_runner_env.env_state.env_state.returned_episode_returns"
   ]
  },
  {
   "cell_type": "code",
   "execution_count": 12,
   "id": "68890080-c349-4195-9134-3f64168cb56a",
   "metadata": {
    "execution": {
     "iopub.execute_input": "2024-01-22T10:13:12.369453Z",
     "iopub.status.busy": "2024-01-22T10:13:12.369253Z",
     "iopub.status.idle": "2024-01-22T10:13:35.553413Z",
     "shell.execute_reply": "2024-01-22T10:13:35.552182Z",
     "shell.execute_reply.started": "2024-01-22T10:13:12.369435Z"
    }
   },
   "outputs": [
    {
     "data": {
      "text/plain": [
       "(array([1.8000e+01, 1.0500e+02, 3.1000e+02, 4.5900e+02, 5.2670e+03,\n",
       "        3.5093e+04, 6.8535e+04, 9.0430e+04, 4.7198e+04, 1.4729e+04]),\n",
       " array([-6.90084696, -6.21303225, -5.52521706, -4.83740234, -4.14958763,\n",
       "        -3.46177268, -2.77395797, -2.08614302, -1.39832819, -0.71051341,\n",
       "        -0.02269855]),\n",
       " <BarContainer object of 10 artists>)"
      ]
     },
     "execution_count": 12,
     "metadata": {},
     "output_type": "execute_result"
    },
    {
     "data": {
      "image/png": "[encoded data removed]",
      "text/plain": [
       "<Figure size 432x288 with 1 Axes>"
      ]
     },
     "metadata": {
      "needs_background": "light"
     },
     "output_type": "display_data"
    }
   ],
   "source": [
    "plt.hist(out_runner_env.env_state.env_state.returned_episode_returns)"
   ]
  },
  {
   "cell_type": "code",
   "execution_count": 13,
   "id": "bb840187-99c8-4f17-9399-e5556bf47572",
   "metadata": {
    "execution": {
     "iopub.execute_input": "2024-01-22T10:13:35.554901Z",
     "iopub.status.busy": "2024-01-22T10:13:35.554647Z",
     "iopub.status.idle": "2024-01-22T10:13:35.731175Z",
     "shell.execute_reply": "2024-01-22T10:13:35.730326Z",
     "shell.execute_reply.started": "2024-01-22T10:13:35.554880Z"
    }
   },
   "outputs": [
    {
     "data": {
      "text/plain": [
       "Array(-0.02269855, dtype=float32)"
      ]
     },
     "execution_count": 13,
     "metadata": {},
     "output_type": "execute_result"
    }
   ],
   "source": [
    "np.max(out_runner_env.env_state.env_state.returned_episode_returns)"
   ]
  },
  {
   "cell_type": "code",
   "execution_count": 14,
   "id": "91ec7e8f-94ea-424a-8903-afcd01f90717",
   "metadata": {
    "execution": {
     "iopub.execute_input": "2024-01-22T10:13:35.732524Z",
     "iopub.status.busy": "2024-01-22T10:13:35.732292Z",
     "iopub.status.idle": "2024-01-22T10:13:35.911698Z",
     "shell.execute_reply": "2024-01-22T10:13:35.910662Z",
     "shell.execute_reply.started": "2024-01-22T10:13:35.732503Z"
    }
   },
   "outputs": [],
   "source": [
    "best_index = np.argmax(out_runner_env.env_state.env_state.returned_episode_returns)"
   ]
  },
  {
   "cell_type": "code",
   "execution_count": 15,
   "id": "bf55d0f6-655b-4e87-b3fb-c009253adbde",
   "metadata": {
    "execution": {
     "iopub.execute_input": "2024-01-22T10:13:35.913299Z",
     "iopub.status.busy": "2024-01-22T10:13:35.913048Z",
     "iopub.status.idle": "2024-01-22T10:13:36.127435Z",
     "shell.execute_reply": "2024-01-22T10:13:36.126525Z",
     "shell.execute_reply.started": "2024-01-22T10:13:35.913277Z"
    }
   },
   "outputs": [
    {
     "name": "stdout",
     "output_type": "stream",
     "text": [
      "x0: 0.2601015567779541\n",
      "x1: 0.696864128112793\n",
      "x2: -0.11959242820739746\n",
      "x3: 0.543781042098999\n",
      "x4: -0.6241908073425293\n",
      "x5: 0.19833731651306152\n",
      "x6: -0.4408540725708008\n",
      "x7: -0.5126335620880127\n",
      "x8: -0.4948554039001465\n",
      "x9: -0.8285574913024902\n",
      "x10: 0.3073577880859375\n",
      "x11: 0.0814371109008789\n",
      "x12: -0.270674467086792\n",
      "x13: -0.572991132736206\n",
      "x14: -0.9850130081176758\n",
      "x15: -0.5952355861663818\n"
     ]
    }
   ],
   "source": [
    "# Iterate through the attribute names 'x0' to 'x15'\n",
    "best_sample_gate_config = []\n",
    "for i in range(16):\n",
    "    # Construct the attribute name\n",
    "    attr_name = f\"x{i}\"\n",
    "    \n",
    "    # Use getattr to fetch the attribute from the env_state.env_state object\n",
    "    value = getattr(out_runner_env.env_state.env_state.env_state, attr_name)[best_index]\n",
    "    \n",
    "    # Print the attribute in the desired format\n",
    "    print(f'{attr_name}: {value}')\n",
    "    best_sample_gate_config.append(value)"
   ]
  },
  {
   "cell_type": "code",
   "execution_count": 16,
   "id": "dfcaaf61-1d90-40df-828d-c4b4bf246dc6",
   "metadata": {
    "execution": {
     "iopub.execute_input": "2024-01-22T10:13:36.128786Z",
     "iopub.status.busy": "2024-01-22T10:13:36.128562Z",
     "iopub.status.idle": "2024-01-22T10:13:57.812413Z",
     "shell.execute_reply": "2024-01-22T10:13:57.811531Z",
     "shell.execute_reply.started": "2024-01-22T10:13:36.128764Z"
    }
   },
   "outputs": [
    {
     "data": {
      "text/plain": [
       "(array([1.0140e+03, 2.8000e+01, 2.7000e+01, 2.9000e+01, 4.8000e+01,\n",
       "        5.5000e+01, 7.4000e+01, 1.0700e+02, 1.6100e+02, 2.2300e+02,\n",
       "        2.7500e+02, 4.1800e+02, 5.2500e+02, 6.5200e+02, 7.5600e+02,\n",
       "        8.4000e+02, 1.0060e+03, 1.1130e+03, 1.1470e+03, 1.2710e+03,\n",
       "        1.2880e+03, 1.3860e+03, 1.3270e+03, 1.4100e+03, 1.4910e+03,\n",
       "        1.5000e+03, 1.5060e+03, 1.4770e+03, 1.5330e+03, 1.4940e+03,\n",
       "        3.3830e+03, 2.2370e+03, 1.7230e+03, 1.6050e+03, 1.6660e+03,\n",
       "        1.7350e+03, 1.8370e+03, 1.8880e+03, 1.9500e+03, 2.1340e+03,\n",
       "        2.1810e+03, 2.3400e+03, 2.3560e+03, 2.5230e+03, 2.7670e+03,\n",
       "        2.8580e+03, 2.9490e+03, 3.1890e+03, 3.3550e+03, 3.4340e+03,\n",
       "        3.5390e+03, 3.6480e+03, 3.6710e+03, 3.7560e+03, 3.7150e+03,\n",
       "        3.7530e+03, 3.7680e+03, 3.7210e+03, 3.6530e+03, 3.7030e+03,\n",
       "        3.7290e+03, 4.0710e+03, 4.4498e+04, 2.0520e+03, 1.9680e+03,\n",
       "        1.9830e+03, 1.9050e+03, 1.9720e+03, 1.9880e+03, 2.0670e+03,\n",
       "        2.0630e+03, 2.0260e+03, 2.0370e+03, 2.0260e+03, 2.1000e+03,\n",
       "        2.0830e+03, 2.0320e+03, 2.1530e+03, 2.1990e+03, 2.2180e+03,\n",
       "        2.1390e+03, 2.2230e+03, 2.1360e+03, 2.1600e+03, 2.2390e+03,\n",
       "        2.1680e+03, 2.1590e+03, 2.1010e+03, 2.1410e+03, 2.1040e+03,\n",
       "        2.1690e+03, 2.1260e+03, 2.1720e+03, 1.7627e+04, 6.1600e+02,\n",
       "        5.9800e+02, 5.9200e+02, 5.7200e+02, 5.5300e+02, 5.1000e+02,\n",
       "        5.5300e+02, 5.7800e+02, 5.5800e+02, 5.7300e+02, 5.7700e+02,\n",
       "        6.0200e+02, 5.7700e+02, 5.8800e+02, 5.7400e+02, 5.3800e+02,\n",
       "        5.0100e+02, 5.3300e+02, 5.5200e+02, 5.4200e+02, 5.3300e+02,\n",
       "        5.0200e+02, 5.4800e+02, 5.2400e+02, 5.0100e+02, 5.2000e+02,\n",
       "        4.9400e+02, 5.7700e+02, 5.4700e+02, 6.1900e+02, 3.4400e+03]),\n",
       " array([-4.        , -3.96818161, -3.93636322, -3.90454483, -3.87272644,\n",
       "        -3.84090805, -3.80908942, -3.77727103, -3.74545264, -3.71363425,\n",
       "        -3.68181586, -3.64999747, -3.61817908, -3.58636069, -3.5545423 ,\n",
       "        -3.52272391, -3.49090552, -3.45908689, -3.42726851, -3.39545012,\n",
       "        -3.36363173, -3.33181334, -3.29999495, -3.26817656, -3.23635817,\n",
       "        -3.20453978, -3.17272139, -3.140903  , -3.10908437, -3.07726598,\n",
       "        -3.04544759, -3.0136292 , -2.98181081, -2.94999242, -2.91817403,\n",
       "        -2.88635564, -2.85453725, -2.82271886, -2.79090047, -2.75908184,\n",
       "        -2.72726345, -2.69544506, -2.66362667, -2.63180828, -2.59998989,\n",
       "        -2.5681715 , -2.53635311, -2.50453472, -2.47271633, -2.44089794,\n",
       "        -2.40907931, -2.37726092, -2.34544253, -2.31362414, -2.28180575,\n",
       "        -2.24998736, -2.21816897, -2.18635058, -2.15453219, -2.1227138 ,\n",
       "        -2.09089541, -2.05907679, -2.0272584 , -1.99544013, -1.96362162,\n",
       "        -1.93180323, -1.89998484, -1.86816645, -1.83634806, -1.80452955,\n",
       "        -1.77271116, -1.74089277, -1.70907438, -1.67725599, -1.6454376 ,\n",
       "        -1.61361909, -1.5818007 , -1.54998231, -1.51816392, -1.48634553,\n",
       "        -1.45452702, -1.42270863, -1.39089024, -1.35907185, -1.32725346,\n",
       "        -1.29543507, -1.26361656, -1.23179817, -1.19997978, -1.16816139,\n",
       "        -1.136343  , -1.10452449, -1.0727061 , -1.04088771, -1.00906932,\n",
       "        -0.97725087, -0.94543248, -0.91361409, -0.88179564, -0.84997725,\n",
       "        -0.81815886, -0.78634042, -0.75452203, -0.72270364, -0.69088519,\n",
       "        -0.6590668 , -0.62724835, -0.59542996, -0.56361157, -0.53179312,\n",
       "        -0.49997473, -0.46815631, -0.43633792, -0.4045195 , -0.37270108,\n",
       "        -0.34088266, -0.30906427, -0.27724585, -0.24542743, -0.21360902,\n",
       "        -0.18179061, -0.1499722 , -0.11815379, -0.08633538, -0.05451696,\n",
       "        -0.02269855]),\n",
       " <BarContainer object of 125 artists>)"
      ]
     },
     "execution_count": 16,
     "metadata": {},
     "output_type": "execute_result"
    },
    {
     "data": {
      "image/png": "[encoded data removed]",
      "text/plain": [
       "<Figure size 432x288 with 1 Axes>"
      ]
     },
     "metadata": {
      "needs_background": "light"
     },
     "output_type": "display_data"
    }
   ],
   "source": [
    "raw = out_runner_env.env_state.env_state.returned_episode_returns\n",
    "clipped_data = np.clip(raw, -4, 0)\n",
    "plt.hist(clipped_data, bins='auto')"
   ]
  },
  {
   "cell_type": "code",
   "execution_count": 17,
   "id": "2f7edc36-23c7-4eb4-ab4b-e290b0f50df7",
   "metadata": {
    "execution": {
     "iopub.execute_input": "2024-01-22T10:13:57.813829Z",
     "iopub.status.busy": "2024-01-22T10:13:57.813598Z",
     "iopub.status.idle": "2024-01-22T10:13:57.817927Z",
     "shell.execute_reply": "2024-01-22T10:13:57.817324Z",
     "shell.execute_reply.started": "2024-01-22T10:13:57.813807Z"
    }
   },
   "outputs": [
    {
     "data": {
      "text/plain": [
       "4"
      ]
     },
     "execution_count": 17,
     "metadata": {},
     "output_type": "execute_result"
    }
   ],
   "source": [
    "len(out_runner_state)"
   ]
  },
  {
   "cell_type": "code",
   "execution_count": 18,
   "id": "75c7b288-7e40-45b4-a009-26317c272239",
   "metadata": {
    "execution": {
     "iopub.execute_input": "2024-01-22T10:13:57.818896Z",
     "iopub.status.busy": "2024-01-22T10:13:57.818700Z",
     "iopub.status.idle": "2024-01-22T10:13:57.825614Z",
     "shell.execute_reply": "2024-01-22T10:13:57.825018Z",
     "shell.execute_reply.started": "2024-01-22T10:13:57.818877Z"
    }
   },
   "outputs": [
    {
     "data": {
      "text/plain": [
       "flax.training.train_state.TrainState"
      ]
     },
     "execution_count": 18,
     "metadata": {},
     "output_type": "execute_result"
    }
   ],
   "source": [
    "type(out_runner_state[0])"
   ]
  },
  {
   "cell_type": "code",
   "execution_count": 19,
   "id": "dc07727e-eeb9-40f8-b008-3d403439a887",
   "metadata": {
    "execution": {
     "iopub.execute_input": "2024-01-22T10:13:57.826599Z",
     "iopub.status.busy": "2024-01-22T10:13:57.826402Z",
     "iopub.status.idle": "2024-01-22T10:13:57.832743Z",
     "shell.execute_reply": "2024-01-22T10:13:57.832138Z",
     "shell.execute_reply.started": "2024-01-22T10:13:57.826581Z"
    }
   },
   "outputs": [
    {
     "data": {
      "text/plain": [
       "(262144, 16)"
      ]
     },
     "execution_count": 19,
     "metadata": {},
     "output_type": "execute_result"
    }
   ],
   "source": [
    "out_runner_state[2].shape # env_state"
   ]
  },
  {
   "cell_type": "code",
   "execution_count": 20,
   "id": "1d3f8281-c6e6-4607-833b-15000aca9f9c",
   "metadata": {
    "execution": {
     "iopub.execute_input": "2024-01-22T10:13:57.833748Z",
     "iopub.status.busy": "2024-01-22T10:13:57.833550Z",
     "iopub.status.idle": "2024-01-22T10:13:57.988440Z",
     "shell.execute_reply": "2024-01-22T10:13:57.987586Z",
     "shell.execute_reply.started": "2024-01-22T10:13:57.833729Z"
    }
   },
   "outputs": [
    {
     "data": {
      "text/plain": [
       "Array([ 0.31705192,  2.3858066 , -1.4380274 , -0.3873455 ,  1.3503175 ,\n",
       "        5.781032  , -2.3288543 , -1.180031  ,  2.2609422 ,  0.26217562,\n",
       "        0.19123408, -3.3144395 , -2.3196437 ,  0.2695228 , -2.9572875 ,\n",
       "        1.3516544 ], dtype=float32)"
      ]
     },
     "execution_count": 20,
     "metadata": {},
     "output_type": "execute_result"
    }
   ],
   "source": [
    "out_runner_state[2][0]"
   ]
  },
  {
   "cell_type": "code",
   "execution_count": 21,
   "id": "8f4160d0-14a8-42fa-bfcc-02f6890ab36a",
   "metadata": {
    "execution": {
     "iopub.execute_input": "2024-01-22T10:13:57.989759Z",
     "iopub.status.busy": "2024-01-22T10:13:57.989526Z",
     "iopub.status.idle": "2024-01-22T10:13:57.993513Z",
     "shell.execute_reply": "2024-01-22T10:13:57.992891Z",
     "shell.execute_reply.started": "2024-01-22T10:13:57.989737Z"
    }
   },
   "outputs": [],
   "source": [
    "return_rewards_mean = out[\"metrics\"][\"returned_episode_returns\"].mean(-1).reshape(-1)"
   ]
  },
  {
   "cell_type": "code",
   "execution_count": 22,
   "id": "6891d80f-e683-4817-a0bb-e9b58a360359",
   "metadata": {
    "execution": {
     "iopub.execute_input": "2024-01-22T10:13:57.994611Z",
     "iopub.status.busy": "2024-01-22T10:13:57.994409Z",
     "iopub.status.idle": "2024-01-22T10:13:58.001592Z",
     "shell.execute_reply": "2024-01-22T10:13:58.000957Z",
     "shell.execute_reply.started": "2024-01-22T10:13:57.994592Z"
    }
   },
   "outputs": [
    {
     "data": {
      "text/plain": [
       "(5000,)"
      ]
     },
     "execution_count": 22,
     "metadata": {},
     "output_type": "execute_result"
    }
   ],
   "source": [
    "return_rewards_mean.shape"
   ]
  },
  {
   "cell_type": "code",
   "execution_count": 23,
   "id": "2ff2d17c-9bdc-47da-83ee-8090046cc0dd",
   "metadata": {
    "execution": {
     "iopub.execute_input": "2024-01-22T10:13:58.002618Z",
     "iopub.status.busy": "2024-01-22T10:13:58.002420Z",
     "iopub.status.idle": "2024-01-22T10:13:58.744506Z",
     "shell.execute_reply": "2024-01-22T10:13:58.743565Z",
     "shell.execute_reply.started": "2024-01-22T10:13:58.002600Z"
    }
   },
   "outputs": [
    {
     "name": "stdout",
     "output_type": "stream",
     "text": [
      "best batch reward -1.9901843\n"
     ]
    }
   ],
   "source": [
    "print('best batch reward',(return_rewards_mean[return_rewards_mean < 0]).max()) # best batch reward"
   ]
  },
  {
   "cell_type": "code",
   "execution_count": 24,
   "id": "e1fc5eaa-6561-4c4b-a776-a16a2d97f054",
   "metadata": {
    "execution": {
     "iopub.execute_input": "2024-01-22T10:13:58.745960Z",
     "iopub.status.busy": "2024-01-22T10:13:58.745724Z",
     "iopub.status.idle": "2024-01-22T10:13:58.750547Z",
     "shell.execute_reply": "2024-01-22T10:13:58.749942Z",
     "shell.execute_reply.started": "2024-01-22T10:13:58.745937Z"
    }
   },
   "outputs": [
    {
     "data": {
      "text/plain": [
       "(500, 10, 262144)"
      ]
     },
     "execution_count": 24,
     "metadata": {},
     "output_type": "execute_result"
    }
   ],
   "source": [
    "out[\"metrics\"][\"returned_episode_returns\"].shape"
   ]
  },
  {
   "cell_type": "code",
   "execution_count": 35,
   "id": "9abab96e-1b57-4064-9816-dc03fedb5b5b",
   "metadata": {
    "execution": {
     "iopub.execute_input": "2024-01-22T10:20:51.290282Z",
     "iopub.status.busy": "2024-01-22T10:20:51.289957Z",
     "iopub.status.idle": "2024-01-22T10:21:01.381460Z",
     "shell.execute_reply": "2024-01-22T10:21:01.380461Z",
     "shell.execute_reply.started": "2024-01-22T10:20:51.290256Z"
    }
   },
   "outputs": [
    {
     "ename": "XlaRuntimeError",
     "evalue": "RESOURCE_EXHAUSTED: Out of memory while trying to allocate 5242880000 bytes.\nBufferAssignment OOM Debugging.\nBufferAssignment stats:\n             parameter allocation:    4.88GiB\n              constant allocation:         0B\n        maybe_live_out allocation:    4.88GiB\n     preallocated temp allocation:         0B\n                 total allocation:    9.77GiB\n              total fragmentation:         0B (0.00%)\nPeak buffers:\n\tBuffer 1:\n\t\tSize: 4.88GiB\n\t\tEntry Parameter Subshape: f32[500,10,262144]\n\t\t==========================\n\n\tBuffer 2:\n\t\tSize: 4.88GiB\n\t\tXLA Label: fusion\n\t\tShape: f32[1310720000]\n\t\t==========================\n\n",
     "output_type": "error",
     "traceback": [
      "\u001b[0;31m---------------------------------------------------------------------------\u001b[0m",
      "\u001b[0;31mXlaRuntimeError\u001b[0m                           Traceback (most recent call last)",
      "Cell \u001b[0;32mIn[35], line 1\u001b[0m\n\u001b[0;32m----> 1\u001b[0m return_rewards \u001b[38;5;241m=\u001b[39m \u001b[43mout\u001b[49m\u001b[43m[\u001b[49m\u001b[38;5;124;43m\"\u001b[39;49m\u001b[38;5;124;43mmetrics\u001b[39;49m\u001b[38;5;124;43m\"\u001b[39;49m\u001b[43m]\u001b[49m\u001b[43m[\u001b[49m\u001b[38;5;124;43m\"\u001b[39;49m\u001b[38;5;124;43mreturned_episode_returns\u001b[39;49m\u001b[38;5;124;43m\"\u001b[39;49m\u001b[43m]\u001b[49m\u001b[38;5;241;43m.\u001b[39;49m\u001b[43mreshape\u001b[49m\u001b[43m(\u001b[49m\u001b[38;5;241;43m-\u001b[39;49m\u001b[38;5;241;43m1\u001b[39;49m\u001b[43m)\u001b[49m\n",
      "    \u001b[0;31m[... skipping hidden 1 frame]\u001b[0m\n",
      "File \u001b[0;32m~/.conda/envs/Analog_jax/lib/python3.9/site-packages/jax/_src/lax/lax.py:868\u001b[0m, in \u001b[0;36mreshape\u001b[0;34m(operand, new_sizes, dimensions)\u001b[0m\n\u001b[1;32m    865\u001b[0m \u001b[38;5;28;01melse\u001b[39;00m:\n\u001b[1;32m    866\u001b[0m   dyn_shape, static_new_sizes \u001b[38;5;241m=\u001b[39m _extract_tracers_dyn_shape(new_sizes)\n\u001b[0;32m--> 868\u001b[0m   \u001b[38;5;28;01mreturn\u001b[39;00m \u001b[43mreshape_p\u001b[49m\u001b[38;5;241;43m.\u001b[39;49m\u001b[43mbind\u001b[49m\u001b[43m(\u001b[49m\n\u001b[1;32m    869\u001b[0m \u001b[43m    \u001b[49m\u001b[43moperand\u001b[49m\u001b[43m,\u001b[49m\u001b[43m \u001b[49m\u001b[38;5;241;43m*\u001b[39;49m\u001b[43mdyn_shape\u001b[49m\u001b[43m,\u001b[49m\u001b[43m \u001b[49m\u001b[43mnew_sizes\u001b[49m\u001b[38;5;241;43m=\u001b[39;49m\u001b[38;5;28;43mtuple\u001b[39;49m\u001b[43m(\u001b[49m\u001b[43mstatic_new_sizes\u001b[49m\u001b[43m)\u001b[49m\u001b[43m,\u001b[49m\n\u001b[1;32m    870\u001b[0m \u001b[43m    \u001b[49m\u001b[43mdimensions\u001b[49m\u001b[38;5;241;43m=\u001b[39;49m\u001b[38;5;28;43;01mNone\u001b[39;49;00m\u001b[43m \u001b[49m\u001b[38;5;28;43;01mif\u001b[39;49;00m\u001b[43m \u001b[49m\u001b[43mdims\u001b[49m\u001b[43m \u001b[49m\u001b[38;5;129;43;01mis\u001b[39;49;00m\u001b[43m \u001b[49m\u001b[38;5;28;43;01mNone\u001b[39;49;00m\u001b[43m \u001b[49m\u001b[38;5;129;43;01mor\u001b[39;49;00m\u001b[43m \u001b[49m\u001b[43msame_dims\u001b[49m\u001b[43m \u001b[49m\u001b[38;5;28;43;01melse\u001b[39;49;00m\u001b[43m \u001b[49m\u001b[43mdims\u001b[49m\u001b[43m)\u001b[49m\n",
      "File \u001b[0;32m~/.conda/envs/Analog_jax/lib/python3.9/site-packages/jax/_src/core.py:402\u001b[0m, in \u001b[0;36mPrimitive.bind\u001b[0;34m(self, *args, **params)\u001b[0m\n\u001b[1;32m    399\u001b[0m \u001b[38;5;28;01mdef\u001b[39;00m \u001b[38;5;21mbind\u001b[39m(\u001b[38;5;28mself\u001b[39m, \u001b[38;5;241m*\u001b[39margs, \u001b[38;5;241m*\u001b[39m\u001b[38;5;241m*\u001b[39mparams):\n\u001b[1;32m    400\u001b[0m   \u001b[38;5;28;01massert\u001b[39;00m (\u001b[38;5;129;01mnot\u001b[39;00m config\u001b[38;5;241m.\u001b[39menable_checks\u001b[38;5;241m.\u001b[39mvalue \u001b[38;5;129;01mor\u001b[39;00m\n\u001b[1;32m    401\u001b[0m           \u001b[38;5;28mall\u001b[39m(\u001b[38;5;28misinstance\u001b[39m(arg, Tracer) \u001b[38;5;129;01mor\u001b[39;00m valid_jaxtype(arg) \u001b[38;5;28;01mfor\u001b[39;00m arg \u001b[38;5;129;01min\u001b[39;00m args)), args\n\u001b[0;32m--> 402\u001b[0m   \u001b[38;5;28;01mreturn\u001b[39;00m \u001b[38;5;28;43mself\u001b[39;49m\u001b[38;5;241;43m.\u001b[39;49m\u001b[43mbind_with_trace\u001b[49m\u001b[43m(\u001b[49m\u001b[43mfind_top_trace\u001b[49m\u001b[43m(\u001b[49m\u001b[43margs\u001b[49m\u001b[43m)\u001b[49m\u001b[43m,\u001b[49m\u001b[43m \u001b[49m\u001b[43margs\u001b[49m\u001b[43m,\u001b[49m\u001b[43m \u001b[49m\u001b[43mparams\u001b[49m\u001b[43m)\u001b[49m\n",
      "File \u001b[0;32m~/.conda/envs/Analog_jax/lib/python3.9/site-packages/jax/_src/core.py:405\u001b[0m, in \u001b[0;36mPrimitive.bind_with_trace\u001b[0;34m(self, trace, args, params)\u001b[0m\n\u001b[1;32m    404\u001b[0m \u001b[38;5;28;01mdef\u001b[39;00m \u001b[38;5;21mbind_with_trace\u001b[39m(\u001b[38;5;28mself\u001b[39m, trace, args, params):\n\u001b[0;32m--> 405\u001b[0m   out \u001b[38;5;241m=\u001b[39m \u001b[43mtrace\u001b[49m\u001b[38;5;241;43m.\u001b[39;49m\u001b[43mprocess_primitive\u001b[49m\u001b[43m(\u001b[49m\u001b[38;5;28;43mself\u001b[39;49m\u001b[43m,\u001b[49m\u001b[43m \u001b[49m\u001b[38;5;28;43mmap\u001b[39;49m\u001b[43m(\u001b[49m\u001b[43mtrace\u001b[49m\u001b[38;5;241;43m.\u001b[39;49m\u001b[43mfull_raise\u001b[49m\u001b[43m,\u001b[49m\u001b[43m \u001b[49m\u001b[43margs\u001b[49m\u001b[43m)\u001b[49m\u001b[43m,\u001b[49m\u001b[43m \u001b[49m\u001b[43mparams\u001b[49m\u001b[43m)\u001b[49m\n\u001b[1;32m    406\u001b[0m   \u001b[38;5;28;01mreturn\u001b[39;00m \u001b[38;5;28mmap\u001b[39m(full_lower, out) \u001b[38;5;28;01mif\u001b[39;00m \u001b[38;5;28mself\u001b[39m\u001b[38;5;241m.\u001b[39mmultiple_results \u001b[38;5;28;01melse\u001b[39;00m full_lower(out)\n",
      "File \u001b[0;32m~/.conda/envs/Analog_jax/lib/python3.9/site-packages/jax/_src/core.py:893\u001b[0m, in \u001b[0;36mEvalTrace.process_primitive\u001b[0;34m(self, primitive, tracers, params)\u001b[0m\n\u001b[1;32m    892\u001b[0m \u001b[38;5;28;01mdef\u001b[39;00m \u001b[38;5;21mprocess_primitive\u001b[39m(\u001b[38;5;28mself\u001b[39m, primitive, tracers, params):\n\u001b[0;32m--> 893\u001b[0m   \u001b[38;5;28;01mreturn\u001b[39;00m \u001b[43mprimitive\u001b[49m\u001b[38;5;241;43m.\u001b[39;49m\u001b[43mimpl\u001b[49m\u001b[43m(\u001b[49m\u001b[38;5;241;43m*\u001b[39;49m\u001b[43mtracers\u001b[49m\u001b[43m,\u001b[49m\u001b[43m \u001b[49m\u001b[38;5;241;43m*\u001b[39;49m\u001b[38;5;241;43m*\u001b[39;49m\u001b[43mparams\u001b[49m\u001b[43m)\u001b[49m\n",
      "File \u001b[0;32m~/.conda/envs/Analog_jax/lib/python3.9/site-packages/jax/_src/dispatch.py:87\u001b[0m, in \u001b[0;36mapply_primitive\u001b[0;34m(prim, *args, **params)\u001b[0m\n\u001b[1;32m     85\u001b[0m prev \u001b[38;5;241m=\u001b[39m lib\u001b[38;5;241m.\u001b[39mjax_jit\u001b[38;5;241m.\u001b[39mswap_thread_local_state_disable_jit(\u001b[38;5;28;01mFalse\u001b[39;00m)\n\u001b[1;32m     86\u001b[0m \u001b[38;5;28;01mtry\u001b[39;00m:\n\u001b[0;32m---> 87\u001b[0m   outs \u001b[38;5;241m=\u001b[39m \u001b[43mfun\u001b[49m\u001b[43m(\u001b[49m\u001b[38;5;241;43m*\u001b[39;49m\u001b[43margs\u001b[49m\u001b[43m)\u001b[49m\n\u001b[1;32m     88\u001b[0m \u001b[38;5;28;01mfinally\u001b[39;00m:\n\u001b[1;32m     89\u001b[0m   lib\u001b[38;5;241m.\u001b[39mjax_jit\u001b[38;5;241m.\u001b[39mswap_thread_local_state_disable_jit(prev)\n",
      "    \u001b[0;31m[... skipping hidden 10 frame]\u001b[0m\n",
      "File \u001b[0;32m~/.conda/envs/Analog_jax/lib/python3.9/site-packages/jax/_src/interpreters/pxla.py:1153\u001b[0m, in \u001b[0;36mExecuteReplicated.__call__\u001b[0;34m(self, *args)\u001b[0m\n\u001b[1;32m   1151\u001b[0m   \u001b[38;5;28mself\u001b[39m\u001b[38;5;241m.\u001b[39m_handle_token_bufs(result_token_bufs, sharded_runtime_token)\n\u001b[1;32m   1152\u001b[0m \u001b[38;5;28;01melse\u001b[39;00m:\n\u001b[0;32m-> 1153\u001b[0m   results \u001b[38;5;241m=\u001b[39m \u001b[38;5;28;43mself\u001b[39;49m\u001b[38;5;241;43m.\u001b[39;49m\u001b[43mxla_executable\u001b[49m\u001b[38;5;241;43m.\u001b[39;49m\u001b[43mexecute_sharded\u001b[49m\u001b[43m(\u001b[49m\u001b[43minput_bufs\u001b[49m\u001b[43m)\u001b[49m\n\u001b[1;32m   1154\u001b[0m \u001b[38;5;28;01mif\u001b[39;00m dispatch\u001b[38;5;241m.\u001b[39mneeds_check_special():\n\u001b[1;32m   1155\u001b[0m   out_arrays \u001b[38;5;241m=\u001b[39m results\u001b[38;5;241m.\u001b[39mdisassemble_into_single_device_arrays()\n",
      "\u001b[0;31mXlaRuntimeError\u001b[0m: RESOURCE_EXHAUSTED: Out of memory while trying to allocate 5242880000 bytes.\nBufferAssignment OOM Debugging.\nBufferAssignment stats:\n             parameter allocation:    4.88GiB\n              constant allocation:         0B\n        maybe_live_out allocation:    4.88GiB\n     preallocated temp allocation:         0B\n                 total allocation:    9.77GiB\n              total fragmentation:         0B (0.00%)\nPeak buffers:\n\tBuffer 1:\n\t\tSize: 4.88GiB\n\t\tEntry Parameter Subshape: f32[500,10,262144]\n\t\t==========================\n\n\tBuffer 2:\n\t\tSize: 4.88GiB\n\t\tXLA Label: fusion\n\t\tShape: f32[1310720000]\n\t\t==========================\n\n"
     ]
    }
   ],
   "source": [
    "return_rewards = out[\"metrics\"][\"returned_episode_returns\"].reshape(-1)"
   ]
  },
  {
   "cell_type": "code",
   "execution_count": 26,
   "id": "de258d7d-29ad-451a-8be9-b90f6c181382",
   "metadata": {
    "execution": {
     "iopub.execute_input": "2024-01-22T10:19:55.445694Z",
     "iopub.status.busy": "2024-01-22T10:19:55.445363Z",
     "iopub.status.idle": "2024-01-22T10:19:55.463123Z",
     "shell.execute_reply": "2024-01-22T10:19:55.462108Z",
     "shell.execute_reply.started": "2024-01-22T10:19:55.445670Z"
    }
   },
   "outputs": [
    {
     "ename": "NameError",
     "evalue": "name 'return_rewards' is not defined",
     "output_type": "error",
     "traceback": [
      "\u001b[0;31m---------------------------------------------------------------------------\u001b[0m",
      "\u001b[0;31mNameError\u001b[0m                                 Traceback (most recent call last)",
      "Cell \u001b[0;32mIn[26], line 1\u001b[0m\n\u001b[0;32m----> 1\u001b[0m \u001b[43mreturn_rewards\u001b[49m\u001b[38;5;241m.\u001b[39mshape\n\u001b[1;32m      2\u001b[0m \u001b[38;5;28mprint\u001b[39m(\u001b[38;5;124m'\u001b[39m\u001b[38;5;124mreturn_rewards.shape\u001b[39m\u001b[38;5;124m'\u001b[39m, return_rewards\u001b[38;5;241m.\u001b[39mshape)\n",
      "\u001b[0;31mNameError\u001b[0m: name 'return_rewards' is not defined"
     ]
    }
   ],
   "source": [
    "return_rewards.shape\n",
    "print('return_rewards.shape', return_rewards.shape)"
   ]
  },
  {
   "cell_type": "code",
   "execution_count": 27,
   "id": "b1a2e6f3-e4aa-4cc2-a6ce-10aa38653f81",
   "metadata": {
    "execution": {
     "iopub.execute_input": "2024-01-22T10:19:56.252387Z",
     "iopub.status.busy": "2024-01-22T10:19:56.252184Z",
     "iopub.status.idle": "2024-01-22T10:19:56.268851Z",
     "shell.execute_reply": "2024-01-22T10:19:56.267907Z",
     "shell.execute_reply.started": "2024-01-22T10:19:56.252368Z"
    }
   },
   "outputs": [
    {
     "ename": "NameError",
     "evalue": "name 'return_rewards' is not defined",
     "output_type": "error",
     "traceback": [
      "\u001b[0;31m---------------------------------------------------------------------------\u001b[0m",
      "\u001b[0;31mNameError\u001b[0m                                 Traceback (most recent call last)",
      "Cell \u001b[0;32mIn[27], line 1\u001b[0m\n\u001b[0;32m----> 1\u001b[0m \u001b[43mreturn_rewards\u001b[49m\n",
      "\u001b[0;31mNameError\u001b[0m: name 'return_rewards' is not defined"
     ]
    }
   ],
   "source": [
    "return_rewards"
   ]
  },
  {
   "cell_type": "code",
   "execution_count": 28,
   "id": "58b6f2f3-3393-478a-b07a-82f3e6bb56c2",
   "metadata": {
    "execution": {
     "iopub.execute_input": "2024-01-22T10:19:56.792507Z",
     "iopub.status.busy": "2024-01-22T10:19:56.792301Z",
     "iopub.status.idle": "2024-01-22T10:19:56.808170Z",
     "shell.execute_reply": "2024-01-22T10:19:56.807360Z",
     "shell.execute_reply.started": "2024-01-22T10:19:56.792488Z"
    }
   },
   "outputs": [
    {
     "ename": "NameError",
     "evalue": "name 'return_rewards' is not defined",
     "output_type": "error",
     "traceback": [
      "\u001b[0;31m---------------------------------------------------------------------------\u001b[0m",
      "\u001b[0;31mNameError\u001b[0m                                 Traceback (most recent call last)",
      "Cell \u001b[0;32mIn[28], line 1\u001b[0m\n\u001b[0;32m----> 1\u001b[0m \u001b[38;5;28mprint\u001b[39m(\u001b[38;5;124m'\u001b[39m\u001b[38;5;124mabsolute best reward per sample\u001b[39m\u001b[38;5;124m'\u001b[39m, (\u001b[43mreturn_rewards\u001b[49m[return_rewards \u001b[38;5;241m<\u001b[39m \u001b[38;5;241m0\u001b[39m])\u001b[38;5;241m.\u001b[39mmax()) \u001b[38;5;66;03m# absolute best reward per sample\u001b[39;00m\n",
      "\u001b[0;31mNameError\u001b[0m: name 'return_rewards' is not defined"
     ]
    }
   ],
   "source": [
    "print('absolute best reward per sample', (return_rewards[return_rewards < 0]).max()) # absolute best reward per sample"
   ]
  },
  {
   "cell_type": "code",
   "execution_count": 29,
   "id": "eadfb1e6-dd6c-4092-a298-cf2b49b98c81",
   "metadata": {
    "execution": {
     "iopub.execute_input": "2024-01-22T10:19:57.641767Z",
     "iopub.status.busy": "2024-01-22T10:19:57.641565Z",
     "iopub.status.idle": "2024-01-22T10:19:59.828906Z",
     "shell.execute_reply": "2024-01-22T10:19:59.827542Z",
     "shell.execute_reply.started": "2024-01-22T10:19:57.641749Z"
    }
   },
   "outputs": [],
   "source": [
    "# Testing to see if FoM implementation is correct\n",
    "# Also check how much FoM diverges when using less accurate output result from mlp model as opposed to golden SPICE sim result\n",
    "\n",
    "from typing import Tuple, Optional\n",
    "import chex\n",
    "# Measure array (reference value from simulation)\n",
    "Measure = jnp.array([\n",
    "    1.738700e+08,  # ugf\n",
    "    1.342800e+02,  # pm\n",
    "    6.144200e-08,  # dc_gain\n",
    "    9.234700e+01,  # cmrr\n",
    "    6.605900e+01,  # psrr\n",
    "    1.114900e+02,  # os\n",
    "    1.798600e+00,  # upper_trig\n",
    "    1.779000e-02,  # lower_trig\n",
    "    5.159700e-04   # pwr\n",
    "])\n",
    "# Model output array (output from estimation model)\n",
    "mlp_output = jnp.array([ 1.72730023e+08, -1.30592169e+01,  3.13270706e-08,  1.03272513e+02,\n",
    "  6.93153630e+01,  1.19041006e+02,  1.76345655e+00,  8.49051201e-02,\n",
    "  5.16918122e-04])\n",
    "\n",
    "weights = jnp.array([1, 0, 1, 1, 1, 1, 1, 1, 1])\n",
    "class EnvParams:\n",
    "    x0_bounds: Tuple[float, float] = (100e-15, 10000e-15)\n",
    "    x1_bounds: Tuple[float, float] = (180e-9, 2e-6)\n",
    "    x2_bounds: Tuple[float, float] = (180e-9, 2e-6)\n",
    "    x3_bounds: Tuple[float, float] = (180e-9, 2e-6)\n",
    "    x4_bounds: Tuple[float, float] = (180e-9, 2e-6)\n",
    "    x5_bounds: Tuple[float, float] = (180e-9, 2e-6)\n",
    "    x6_bounds: Tuple[float, float] = (100e-15, 2000e-15)\n",
    "    x7_bounds: Tuple[float, float] = (1, 20)\n",
    "    x8_bounds: Tuple[float, float] = (1, 20)\n",
    "    x9_bounds: Tuple[float, float] = (1, 20)\n",
    "    x10_bounds: Tuple[float, float] = (220e-9, 150e-6)\n",
    "    x11_bounds: Tuple[float, float] = (220e-9, 150e-6)\n",
    "    x12_bounds: Tuple[float, float] = (220e-9, 150e-6)\n",
    "    x13_bounds: Tuple[float, float] = (220e-9, 150e-6)\n",
    "    x14_bounds: Tuple[float, float] = (220e-9, 150e-6)\n",
    "    x15_bounds: Tuple[float, float] = (1e2, 1e5)\n",
    "    out0_constraints: Tuple[float, int] = (30e6, 0)\n",
    "    out1_constraints: Tuple[float, int] = (60, 0)\n",
    "    out2_constraints: Tuple[float, int] = (100e-9, 1)\n",
    "    out3_constraints: Tuple[float, int] = (80, 0)\n",
    "    out4_constraints: Tuple[float, int] = (60, 0)\n",
    "    out5_constraints: Tuple[float, int] = (80, 0)\n",
    "    out6_constraints: Tuple[float, int] = (1.5, 0)\n",
    "    out7_constraints: Tuple[float, int] = (30e-3, 1)\n",
    "    out0_denormalize: Tuple[float, float] = (0.0, 645470000.0) # min, max, were mapped to [-1,1]\n",
    "    out1_denormalize: Tuple[float, float] = (-180.0, 179.99)\n",
    "    out2_denormalize: Tuple[float, float] = (1.2585e-11, 1e-06)\n",
    "    out3_denormalize: Tuple[float, float] = (-68.19, 210.7)\n",
    "    out4_denormalize: Tuple[float, float] = (-181.83, 99.497)\n",
    "    out5_denormalize: Tuple[float, float] = (-4.0129, 150.14)\n",
    "    out6_denormalize: Tuple[float, float] = (-1.3605, 1.8004)\n",
    "    out7_denormalize: Tuple[float, float] = (8.661e-06, 2.882)\n",
    "    out8_denormalize: Tuple[float, float] = (9.6713e-05, 0.0047157)\n",
    "    num_states: int = 16\n",
    "    num_spects: int = 9\n",
    "    max_steps_in_episode: int = 20\n",
    "\n",
    "# Takes in denormalized output to return FoM\n",
    "def compute_reward(model_output: chex.Array, params: EnvParams, weights) -> float:\n",
    "    # Uses FoM metric for reward\n",
    "    # Denormalize the model output to compare against constraints\n",
    "    # From [-1, 1] => [min, max]\n",
    "    denormalize_params_min = jnp.array([\n",
    "        params.out0_denormalize[0], params.out1_denormalize[0], params.out2_denormalize[0],\n",
    "        params.out3_denormalize[0], params.out4_denormalize[0], params.out5_denormalize[0],\n",
    "        params.out6_denormalize[0], params.out7_denormalize[0], params.out8_denormalize[0]\n",
    "    ])\n",
    "    denormalize_params_max = jnp.array([\n",
    "        params.out0_denormalize[1], params.out1_denormalize[1], params.out2_denormalize[1],\n",
    "        params.out3_denormalize[1], params.out4_denormalize[1], params.out5_denormalize[1],\n",
    "        params.out6_denormalize[1], params.out7_denormalize[1], params.out8_denormalize[1]\n",
    "    ])\n",
    "    \n",
    "    constraints = jnp.array([\n",
    "        params.out0_constraints, params.out1_constraints, params.out2_constraints,\n",
    "        params.out3_constraints, params.out4_constraints, params.out5_constraints,\n",
    "        params.out6_constraints, params.out7_constraints\n",
    "    ])\n",
    "\n",
    "    model_output = ((2 * (model_output - denormalize_params_min)) / (denormalize_params_max - denormalize_params_min)) - 1\n",
    "    out = denormalize_params_min + (((model_output + 1.0) * (denormalize_params_max - denormalize_params_min)) / 2.0)\n",
    "    #out = model_output * jnp.sqrt(denormalize_params[:, 1]) + denormalize_params[:, 0]\n",
    "\n",
    "    # Calculate scaled differences from constraints\n",
    "    scaled_diffs = jnp.where(\n",
    "        constraints[:, 1] == 1, \n",
    "        jnp.clip((out[:-1] - constraints[:, 0]) / constraints[:, 0], 0, 1),\n",
    "        jnp.clip((constraints[:, 0] - out[:-1]) / constraints[:, 0], 0, 1)\n",
    "    )\n",
    "    # Append out[-1] to scaled_diffs\n",
    "    scaled_diffs = jnp.append(scaled_diffs, out[-1])\n",
    "\n",
    "    # Apply weights and sum\n",
    "    weighted_diffs = weights * scaled_diffs\n",
    "    FoM = jnp.sum(weighted_diffs)\n",
    "\n",
    "    # Convert FoM to a reward\n",
    "    reward = -1 * FoM\n",
    "\n",
    "    return reward\n",
    "\n",
    "\n",
    "def denormalize_input(model_output: chex.Array, params: EnvParams, weights) -> float:\n",
    "    # Uses FoM metric for reward\n",
    "    # Denormalize the model output to compare against constraints\n",
    "    # From [-1, 1] => [min, max]\n",
    "    denormalize_params_min = jnp.array([\n",
    "        params.out0_denormalize[0], params.out1_denormalize[0], params.out2_denormalize[0],\n",
    "        params.out3_denormalize[0], params.out4_denormalize[0], params.out5_denormalize[0],\n",
    "        params.out6_denormalize[0], params.out7_denormalize[0], params.out8_denormalize[0]\n",
    "    ])\n",
    "    denormalize_params_max = jnp.array([\n",
    "        params.out0_denormalize[1], params.out1_denormalize[1], params.out2_denormalize[1],\n",
    "        params.out3_denormalize[1], params.out4_denormalize[1], params.out5_denormalize[1],\n",
    "        params.out6_denormalize[1], params.out7_denormalize[1], params.out8_denormalize[1]\n",
    "    ])\n",
    "    \n",
    "    constraints = jnp.array([\n",
    "        params.out0_constraints, params.out1_constraints, params.out2_constraints,\n",
    "        params.out3_constraints, params.out4_constraints, params.out5_constraints,\n",
    "        params.out6_constraints, params.out7_constraints\n",
    "    ])\n",
    "\n",
    "    #model_output = ((2 * (model_output - denormalize_params_min)) / (denormalize_params_max - denormalize_params_min)) - 1\n",
    "    out = denormalize_params_min + (((model_output + 1.0) * (denormalize_params_max - denormalize_params_min)) / 2.0)\n",
    "    return out\n",
    "\n",
    "def denormalize_input(norm_array, params):\n",
    "    \"\"\"\n",
    "    Denormalize a normalized numpy array based on the bounds in EnvParams.\n",
    "    \n",
    "    :param norm_array: Normalized numpy array with values in the range [-1, 1].\n",
    "    :param params: An instance of EnvParams containing the bounds for each element.\n",
    "    :return: A numpy array with denormalized values.\n",
    "    \"\"\"\n",
    "    bounds = np.array([\n",
    "        params.x0_bounds, params.x1_bounds, params.x2_bounds, params.x3_bounds,\n",
    "        params.x4_bounds, params.x5_bounds, params.x6_bounds, params.x7_bounds,\n",
    "        params.x8_bounds, params.x9_bounds, params.x10_bounds, params.x11_bounds,\n",
    "        params.x12_bounds, params.x13_bounds, params.x14_bounds, params.x15_bounds\n",
    "    ])\n",
    "    \n",
    "    # Calculate the range (high - low) for each element\n",
    "    ranges = bounds[:, 1] - bounds[:, 0]\n",
    "    \n",
    "    # Calculate the denormalized values\n",
    "    denorm_array = (norm_array + 1) * ranges / 2 + bounds[:, 0]\n",
    "    \n",
    "    return denorm_array\n",
    "\n",
    "reference_reward = compute_reward(Measure, EnvParams(), weights)"
   ]
  },
  {
   "cell_type": "code",
   "execution_count": 30,
   "id": "24364ec2-6a70-4694-a238-23471416397d",
   "metadata": {
    "execution": {
     "iopub.execute_input": "2024-01-22T10:19:59.830552Z",
     "iopub.status.busy": "2024-01-22T10:19:59.830323Z",
     "iopub.status.idle": "2024-01-22T10:19:59.839437Z",
     "shell.execute_reply": "2024-01-22T10:19:59.838824Z",
     "shell.execute_reply.started": "2024-01-22T10:19:59.830530Z"
    }
   },
   "outputs": [
    {
     "data": {
      "text/plain": [
       "0.00051597"
      ]
     },
     "execution_count": 30,
     "metadata": {},
     "output_type": "execute_result"
    }
   ],
   "source": [
    "# Reference FoM implementation\n",
    "import numpy as np\n",
    "\n",
    "# Measure array\n",
    "Measure = np.array([\n",
    "    1.738700e+08,  # ugf\n",
    "    1.342800e+02,  # pm\n",
    "    6.144200e-08,  # dc_gain\n",
    "    9.234700e+01,  # cmrr\n",
    "    6.605900e+01,  # psrr\n",
    "    1.114900e+02,  # os\n",
    "    1.798600e+00,  # upper_trig\n",
    "    1.779000e-02,  # lower_trig\n",
    "    5.159700e-04   # pwr\n",
    "])\n",
    "\n",
    "# Weights for each measurement\n",
    "weights = np.array([1, 0, 1, 1, 1, 1, 1, 1, 1])\n",
    "\n",
    "# Constraints\n",
    "constraints = np.array([\n",
    "    [30e6, 0],      # ugf\n",
    "    [60, 0],        # pm\n",
    "    [100e-9, 1],    # dc_gain\n",
    "    [80, 0],        # cmrr\n",
    "    [60, 0],        # psrr\n",
    "    [80, 0],        # os\n",
    "    [1.5, 0],       # upper_trig\n",
    "    [30e-3, 1]      # lower_trig\n",
    "])\n",
    "\n",
    "# Calculate FoM\n",
    "accum = 0\n",
    "len_constraints = len(constraints)\n",
    "for i in range(len_constraints):\n",
    "    if constraints[i][1] == 1:\n",
    "        accum += weights[i] * min(1.0, max(0.0, (Measure[i] - constraints[i][0]) / constraints[i][0]))\n",
    "    else:\n",
    "        accum += weights[i] * min(1.0, max(0.0, (constraints[i][0] - Measure[i]) / constraints[i][0]))\n",
    "\n",
    "FoM_out = accum + Measure[len_constraints]  # Adding the pwr value\n",
    "FoM_out\n"
   ]
  },
  {
   "cell_type": "code",
   "execution_count": 31,
   "id": "6be602cc-8226-4d11-82f8-4831d2d34f7d",
   "metadata": {
    "execution": {
     "iopub.execute_input": "2024-01-22T10:19:59.841020Z",
     "iopub.status.busy": "2024-01-22T10:19:59.840820Z",
     "iopub.status.idle": "2024-01-22T10:19:59.847517Z",
     "shell.execute_reply": "2024-01-22T10:19:59.846942Z",
     "shell.execute_reply.started": "2024-01-22T10:19:59.841002Z"
    }
   },
   "outputs": [
    {
     "data": {
      "text/plain": [
       "Array(-0.00051597, dtype=float32)"
      ]
     },
     "execution_count": 31,
     "metadata": {},
     "output_type": "execute_result"
    }
   ],
   "source": [
    "reference_reward"
   ]
  },
  {
   "cell_type": "code",
   "execution_count": 32,
   "id": "728081b7-a78a-4361-86a7-33b42d47dc64",
   "metadata": {
    "execution": {
     "iopub.execute_input": "2024-01-22T10:19:59.848525Z",
     "iopub.status.busy": "2024-01-22T10:19:59.848329Z",
     "iopub.status.idle": "2024-01-22T10:19:59.859783Z",
     "shell.execute_reply": "2024-01-22T10:19:59.859053Z",
     "shell.execute_reply.started": "2024-01-22T10:19:59.848507Z"
    }
   },
   "outputs": [],
   "source": [
    "mlp_model_reward = compute_reward(mlp_output, EnvParams(), weights)"
   ]
  },
  {
   "cell_type": "code",
   "execution_count": 33,
   "id": "5650ba6c-4f39-43a1-931f-5f930325304b",
   "metadata": {
    "execution": {
     "iopub.execute_input": "2024-01-22T10:19:59.860751Z",
     "iopub.status.busy": "2024-01-22T10:19:59.860555Z",
     "iopub.status.idle": "2024-01-22T10:19:59.864424Z",
     "shell.execute_reply": "2024-01-22T10:19:59.863809Z",
     "shell.execute_reply.started": "2024-01-22T10:19:59.860732Z"
    }
   },
   "outputs": [
    {
     "data": {
      "text/plain": [
       "Array(-1.0005169, dtype=float32)"
      ]
     },
     "execution_count": 33,
     "metadata": {},
     "output_type": "execute_result"
    }
   ],
   "source": [
    "mlp_model_reward"
   ]
  },
  {
   "cell_type": "code",
   "execution_count": 38,
   "id": "682d2705-2a85-4b2a-8cc1-f08b9d53fdf2",
   "metadata": {
    "execution": {
     "iopub.execute_input": "2024-01-22T10:23:37.715927Z",
     "iopub.status.busy": "2024-01-22T10:23:37.715694Z",
     "iopub.status.idle": "2024-01-22T10:23:37.720239Z",
     "shell.execute_reply": "2024-01-22T10:23:37.719367Z",
     "shell.execute_reply.started": "2024-01-22T10:23:37.715906Z"
    }
   },
   "outputs": [
    {
     "name": "stdout",
     "output_type": "stream",
     "text": [
      "[6.33750271e-12 1.72414636e-06 9.81170890e-07 1.58484075e-06\n",
      " 5.21986365e-07 1.27048696e-06 6.31188631e-13 5.62998116e+00\n",
      " 5.79887366e+00 2.62870383e+00 9.81280247e-05 8.12088252e-05\n",
      " 5.48391892e-05 3.21986941e-05 1.34237582e-06 2.03179825e+04]\n"
     ]
    }
   ],
   "source": [
    "# denormalize best sample gate config\n",
    "best_sample_gate_config = np.array(best_sample_gate_config)\n",
    "best_sample_gate_config_denorm = denormalize_input(best_sample_gate_config, EnvParams())\n",
    "print(best_sample_gate_config_denorm)"
   ]
  },
  {
   "cell_type": "code",
   "execution_count": 40,
   "id": "7f6cf6af-4735-4a14-b737-ad22911aec03",
   "metadata": {
    "execution": {
     "iopub.execute_input": "2024-01-22T10:23:47.321863Z",
     "iopub.status.busy": "2024-01-22T10:23:47.321631Z",
     "iopub.status.idle": "2024-01-22T10:23:47.327309Z",
     "shell.execute_reply": "2024-01-22T10:23:47.326522Z",
     "shell.execute_reply.started": "2024-01-22T10:23:47.321842Z"
    }
   },
   "outputs": [
    {
     "name": "stdout",
     "output_type": "stream",
     "text": [
      "x0: 6.3375027060508726e-12\n",
      "x1: 1.7241463565826415e-06\n",
      "x2: 9.811708903312683e-07\n",
      "x3: 1.584840748310089e-06\n",
      "x4: 5.219863653182983e-07\n",
      "x5: 1.270486958026886e-06\n",
      "x6: 6.311886310577393e-13\n",
      "x7: 5.629981160163879\n",
      "x8: 5.798873662948608\n",
      "x9: 2.6287038326263428\n",
      "x10: 9.812802474975585e-05\n",
      "x11: 8.120882523536682e-05\n",
      "x12: 5.483918915987015e-05\n",
      "x13: 3.219869406938553e-05\n",
      "x14: 1.3423758220672608e-06\n",
      "x15: 20317.982470989227\n"
     ]
    }
   ],
   "source": [
    "for i in range(16):\n",
    "    # Construct the attribute name\n",
    "    attr_name = f\"x{i}\"\n",
    "    value = best_sample_gate_config_denorm[i]\n",
    "    print(f'{attr_name}: {value}')"
   ]
  },
  {
   "cell_type": "code",
   "execution_count": null,
   "id": "a47a6269-e2fa-4fa7-b9e2-7ae01a9f73cc",
   "metadata": {},
   "outputs": [],
   "source": []
  }
 ],
 "metadata": {
  "kernelspec": {
   "display_name": "Analog_jax",
   "language": "python",
   "name": "analog_jax"
  },
  "language_info": {
   "codemirror_mode": {
    "name": "ipython",
    "version": 3
   },
   "file_extension": ".py",
   "mimetype": "text/x-python",
   "name": "python",
   "nbconvert_exporter": "python",
   "pygments_lexer": "ipython3",
   "version": "3.9.18"
  }
 },
 "nbformat": 4,
 "nbformat_minor": 5
}
